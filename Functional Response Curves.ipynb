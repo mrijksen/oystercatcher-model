{
 "cells": [
  {
   "cell_type": "code",
   "execution_count": null,
   "metadata": {},
   "outputs": [],
   "source": [
    "import matplotlib.pyplot as plt\n",
    "import numpy as np\n",
    "\n",
    "%matplotlib inline\n",
    "plt.rcParams['figure.figsize'] = [12, 6]"
   ]
  },
  {
   "cell_type": "code",
   "execution_count": null,
   "metadata": {},
   "outputs": [],
   "source": [
    "def functional_response(attack_rate, max_intake_rate, dry_mass_start):\n",
    "    \n",
    "    # calculate handling time\n",
    "    handling_time = dry_mass_start / max_intake_rate\n",
    "    \n",
    "    # calculate capture rate\n",
    "    capture_rates = []\n",
    "    for d in range(0,400):\n",
    "        capture_rate = attack_rate * d / (1 + attack_rate * handling_time * d)\n",
    "        capture_rates.append(capture_rate)\n",
    "    \n",
    "    return np.array(capture_rates)"
   ]
  },
  {
   "cell_type": "code",
   "execution_count": null,
   "metadata": {},
   "outputs": [],
   "source": [
    "# Oosterschelde mussel functional response from webtics\n",
    "\n",
    "# parameters\n",
    "attack_rate = 0.00057\n",
    "dry_mass_start = 850\n",
    "max_intake_rate = 2.5\n",
    "\n",
    "oosterschelde = functional_response(attack_rate, max_intake_rate, dry_mass_start)\n",
    "# plt.plot(handling_time)"
   ]
  },
  {
   "cell_type": "code",
   "execution_count": null,
   "metadata": {},
   "outputs": [],
   "source": [
    "# in webtics they mention formula to calculate plateatu (max intake rate) \n",
    "def max_intake_rate(prey_weight):\n",
    "    max_intake_rate = 0.092 * prey_weight ** 0.506\n",
    "    return max_intake_rate"
   ]
  },
  {
   "cell_type": "code",
   "execution_count": null,
   "metadata": {},
   "outputs": [],
   "source": [
    "# Wadden sea functional response from webtics\n",
    "\n",
    "\n",
    "# parameters\n",
    "max_intake_rate = max_intake_rate(850)\n",
    "attack_rate = 0.00057\n",
    "dry_mass_start = 850 # for now assume this is prey weight\n",
    "\n",
    "wadden_sea = functional_response(attack_rate, max_intake_rate, dry_mass_start)"
   ]
  },
  {
   "cell_type": "code",
   "execution_count": null,
   "metadata": {},
   "outputs": [],
   "source": [
    "# plot from capture rate on wadden sea and oosterschelde\n",
    "plt.figure()\n",
    "plt.plot(wadden_sea, 'r', label=\"Wadden sea\")\n",
    "plt.plot(oosterschelde, label=\"Oosterschelde\")\n",
    "plt.xlabel(\"density\")\n",
    "plt.ylabel(\"capture rate\")\n",
    "plt.title(\"Capture rates\")\n",
    "plt.legend()\n",
    "plt.savefig(\"capture_rate_mussels.png\")"
   ]
  },
  {
   "cell_type": "code",
   "execution_count": null,
   "metadata": {},
   "outputs": [],
   "source": [
    "# plot from capture rate on wadden sea and oosterschelde\n",
    "plt.figure()\n",
    "plt.plot(wadden_sea * 850, 'r', label=\"Wadden sea\")\n",
    "plt.plot(oosterschelde * 850, label=\"Oosterschelde\")\n",
    "plt.xlabel(\"density\")\n",
    "plt.ylabel(\"capture rate\")\n",
    "plt.title(\"Intake rate, mg (prey of 850 mg)\")\n",
    "plt.legend()\n",
    "plt.savefig(\"intake_mg_mussels_prey_850.png\")"
   ]
  },
  {
   "cell_type": "code",
   "execution_count": null,
   "metadata": {},
   "outputs": [],
   "source": [
    "wadden_sea[2] * 850"
   ]
  },
  {
   "cell_type": "code",
   "execution_count": null,
   "metadata": {},
   "outputs": [],
   "source": [
    "print(max_intake_rate(850))"
   ]
  },
  {
   "cell_type": "code",
   "execution_count": null,
   "metadata": {},
   "outputs": [],
   "source": []
  }
 ],
 "metadata": {
  "kernelspec": {
   "display_name": "Python 3",
   "language": "python",
   "name": "python3"
  },
  "language_info": {
   "codemirror_mode": {
    "name": "ipython",
    "version": 3
   },
   "file_extension": ".py",
   "mimetype": "text/x-python",
   "name": "python",
   "nbconvert_exporter": "python",
   "pygments_lexer": "ipython3",
   "version": "3.7.2"
  }
 },
 "nbformat": 4,
 "nbformat_minor": 2
}
