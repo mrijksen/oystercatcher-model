{
 "cells": [
  {
   "cell_type": "code",
   "execution_count": null,
   "metadata": {},
   "outputs": [],
   "source": [
    "import numpy as np\n",
    "import matplotlib.pyplot as plt\n",
    "import pandas as pd\n",
    "import toml\n",
    "plt.rcParams['figure.figsize'] = (20, 7)"
   ]
  },
  {
   "cell_type": "code",
   "execution_count": null,
   "metadata": {},
   "outputs": [],
   "source": [
    "# load parameters \n",
    "standard_params = toml.load(\"../foragingmodel/config_file.toml\")\n",
    "params = standard_params.copy()\n",
    "\n",
    "# delete parameters not included in SA\n",
    "del params['resolution_min']\n",
    "del params['init_birds']\n",
    "del params['w_mussel_foraging_efficiency']\n",
    "del params['s_worm_foraging_efficiency']\n",
    "del params['mussel_density']\n",
    "del params['relative_density']\n",
    "\n",
    "# list of parameter names\n",
    "param_vars = list(params.keys())\n",
    "\n",
    "# load results\n",
    "results = np.loadtxt('../results/sensitivity_analysis/sensitivity_standardparams_25percent.txt') \n",
    "\n",
    "N = 5\n",
    "\n",
    "vars = ['start_num_w', 'start_num_s', 'final_num_w', 'final_num_s', 'final_mean_foraging_w', 'final_mean_foraging_s',\n",
    "        'final_mean_weight_w', 'final_mean_weight_s', 'end_mean_weight_w', 'end_mean_weight_s', 'mean_sumsq_weight_w',\n",
    "        'mean_sumsq_weight_s']\n",
    "\n",
    "# create dataframe of results\n",
    "df = pd.DataFrame(data=results, columns=vars) \n",
    "\n",
    "# calculate mortality for both groups\n",
    "df['mortality_w'] = df['start_num_w'] - df['final_num_w']\n",
    "df['mortality_s'] = df['start_num_s'] - df['final_num_s']\n",
    "\n",
    "# calculate means/std per N rows\n",
    "df_means = df.groupby(np.arange(len(df)) // N).mean()\n",
    "df_std = df.groupby(np.arange(len(df)) // N).std()\n",
    "\n",
    "# split dataframe in increase/decrease\n",
    "df_inc_mean = df_means.iloc[:int(df_means.shape[0]/2)]\n",
    "df_dec_mean = df_means.iloc[int(df_means.shape[0]/2):]\n",
    "df_inc_std = df_std.iloc[:int(df_std.shape[0]/2)]\n",
    "df_dec_std = df_std.iloc[int(df_means.shape[0]/2):]"
   ]
  },
  {
   "cell_type": "code",
   "execution_count": null,
   "metadata": {},
   "outputs": [],
   "source": [
    "vars"
   ]
  },
  {
   "cell_type": "markdown",
   "metadata": {},
   "source": [
    "# Parameter increase by 25%"
   ]
  },
  {
   "cell_type": "code",
   "execution_count": null,
   "metadata": {},
   "outputs": [],
   "source": [
    "# mean foraging time\n",
    "parameter = 'final_mean_foraging_w'\n",
    "x = df_inc_mean.index\n",
    "y = df_inc_mean[parameter]\n",
    "std = df_inc_std[parameter]\n",
    "plt.xticks(x, param_vars, rotation='vertical', size=10, fontsize=12)\n",
    "plt.errorbar(x, y, std, linestyle='None',  markersize= 4, capsize=4, marker='o', color='red')\n",
    "\n",
    "parameter = 'final_mean_foraging_s'\n",
    "x = df_inc_mean.index\n",
    "y = df_inc_mean[parameter]\n",
    "std = df_inc_std[parameter]\n",
    "plt.xticks(x, param_vars, rotation='vertical')\n",
    "plt.errorbar(x, y, std, linestyle='None',  markersize= 4, capsize=4, marker='o', color='blue')\n",
    "plt.legend()\n",
    "plt.show()"
   ]
  },
  {
   "cell_type": "code",
   "execution_count": null,
   "metadata": {},
   "outputs": [],
   "source": [
    "# mean deviation from ref weight\n",
    "parameter = 'mean_sumsq_weight_w'\n",
    "x = df_inc_mean.index\n",
    "y = df_inc_mean[parameter]\n",
    "std = df_inc_std[parameter]\n",
    "plt.xticks(x, param_vars, rotation='vertical')\n",
    "plt.errorbar(x, y, std, linestyle='None',  markersize= 4, capsize=4, marker='o', color='red')\n",
    "\n",
    "parameter = 'mean_sumsq_weight_s'\n",
    "x = df_inc_mean.index\n",
    "y = df_inc_mean[parameter]\n",
    "std = df_inc_std[parameter]\n",
    "plt.xticks(x, param_vars, rotation='vertical')\n",
    "plt.errorbar(x, y, std, linestyle='None',  markersize= 4, capsize=4, marker='o', color='blue')\n",
    "plt.legend()\n",
    "plt.show()"
   ]
  },
  {
   "cell_type": "code",
   "execution_count": null,
   "metadata": {},
   "outputs": [],
   "source": [
    "# mean weight\n",
    "parameter = 'final_mean_weight_w'\n",
    "x = df_inc_mean.index\n",
    "y = df_inc_mean[parameter]\n",
    "std = df_inc_std[parameter]\n",
    "plt.xticks(x, param_vars, rotation='vertical')\n",
    "plt.errorbar(x, y, std, linestyle='None',  markersize= 4, capsize=4, marker='o', color='red')\n",
    "\n",
    "parameter = 'final_mean_weight_s'\n",
    "x = df_inc_mean.index\n",
    "y = df_inc_mean[parameter]\n",
    "std = df_inc_std[parameter]\n",
    "plt.xticks(x, param_vars, rotation='vertical')\n",
    "plt.errorbar(x, y, std, linestyle='None',  markersize= 4, capsize=4, marker='o', color='blue')\n",
    "plt.legend()\n",
    "plt.show()"
   ]
  },
  {
   "cell_type": "code",
   "execution_count": null,
   "metadata": {},
   "outputs": [],
   "source": [
    "# final_weight\n",
    "parameter = 'end_mean_weight_w'\n",
    "x = df_inc_mean.index\n",
    "y = df_inc_mean[parameter]\n",
    "std = df_inc_std[parameter]\n",
    "plt.xticks(x, param_vars, rotation='vertical')\n",
    "plt.errorbar(x, y, std, linestyle='None',  markersize= 4, capsize=4, marker='o', color='red')\n",
    "\n",
    "parameter = 'end_mean_weight_s'\n",
    "x = df_inc_mean.index\n",
    "y = df_inc_mean[parameter]\n",
    "std = df_inc_std[parameter]\n",
    "plt.xticks(x, param_vars, rotation='vertical')\n",
    "plt.errorbar(x, y, std, linestyle='None',  markersize= 4, capsize=4, marker='o', color='blue')\n",
    "plt.legend()\n",
    "plt.show()"
   ]
  },
  {
   "cell_type": "code",
   "execution_count": null,
   "metadata": {},
   "outputs": [],
   "source": [
    "# mortality\n",
    "parameter = 'mortality_w'\n",
    "x = df_inc_mean.index\n",
    "y = df_inc_mean[parameter]\n",
    "std = df_inc_std[parameter]\n",
    "plt.xticks(x, param_vars, rotation='vertical')\n",
    "plt.errorbar(x, y, std, linestyle='None',  markersize= 4, capsize=4, marker='o', color='red')\n",
    "\n",
    "parameter = 'mortality_s'\n",
    "x = df_inc_mean.index\n",
    "y = df_inc_mean[parameter]\n",
    "std = df_inc_std[parameter]\n",
    "plt.xticks(x, param_vars, rotation='vertical')\n",
    "plt.errorbar(x, y, std, linestyle='None',  markersize= 4, capsize=4, marker='o', color='blue')\n",
    "plt.legend()\n",
    "\n",
    "\n",
    "# # mortality\n",
    "# parameter = 'mortality_w'\n",
    "# x = df_inc_mean.index\n",
    "# y = df_dec_mean[parameter]\n",
    "# std = df_dec_std[parameter]\n",
    "# plt.xticks(x, param_vars, rotation='vertical')\n",
    "# plt.errorbar(x, y, std, linestyle='None',  markersize= 4, capsize=4, marker='o', color='green')\n",
    "\n",
    "# parameter = 'mortality_s'\n",
    "# x = df_inc_mean.index\n",
    "# y = df_dec_mean[parameter]\n",
    "# std = df_dec_std[parameter]\n",
    "# plt.xticks(x, param_vars, rotation='vertical')\n",
    "# plt.errorbar(x, y, std, linestyle='None',  markersize= 4, capsize=4, marker='o', color='magenta')\n",
    "# plt.legend()\n",
    "plt.show()"
   ]
  },
  {
   "cell_type": "markdown",
   "metadata": {},
   "source": [
    "# Parameter decrease by 25%"
   ]
  },
  {
   "cell_type": "code",
   "execution_count": null,
   "metadata": {},
   "outputs": [],
   "source": [
    "# mean foraging time\n",
    "parameter = 'final_mean_foraging_w'\n",
    "x = df_dec_mean.index\n",
    "y = df_dec_mean[parameter]\n",
    "std = df_inc_std[parameter]\n",
    "plt.xticks(x, param_vars, rotation='vertical')\n",
    "plt.errorbar(x, y, std, linestyle='None',  markersize= 4, capsize=4, marker='o', color='red')\n",
    "\n",
    "parameter = 'final_mean_foraging_s'\n",
    "x = df_dec_mean.index\n",
    "y = df_dec_mean[parameter]\n",
    "std = df_dec_std[parameter]\n",
    "plt.xticks(x, param_vars, rotation='vertical')\n",
    "plt.errorbar(x, y, std, linestyle='None',  markersize= 4, capsize=4, marker='o', color='blue')\n",
    "plt.legend()\n",
    "plt.show()"
   ]
  },
  {
   "cell_type": "code",
   "execution_count": null,
   "metadata": {},
   "outputs": [],
   "source": [
    "# mean deviation from ref weight\n",
    "parameter = 'mean_sumsq_weight_w'\n",
    "x = df_dec_mean.index\n",
    "y = df_dec_mean[parameter]\n",
    "std = df_dec_std[parameter]\n",
    "plt.xticks(x, param_vars, rotation='vertical')\n",
    "plt.errorbar(x, y, std, linestyle='None',  markersize= 4, capsize=4, marker='o', color='red')\n",
    "\n",
    "parameter = 'mean_sumsq_weight_s'\n",
    "x = df_dec_mean.index\n",
    "y = df_dec_mean[parameter]\n",
    "std = df_dec_std[parameter]\n",
    "plt.xticks(x, param_vars, rotation='vertical')\n",
    "plt.errorbar(x, y, std, linestyle='None',  markersize= 4, capsize=4, marker='o', color='blue')\n",
    "plt.legend()\n",
    "plt.show()"
   ]
  },
  {
   "cell_type": "code",
   "execution_count": null,
   "metadata": {},
   "outputs": [],
   "source": [
    "# mean weight\n",
    "parameter = 'final_mean_weight_w'\n",
    "x = df_dec_mean.index\n",
    "y = df_dec_mean[parameter]\n",
    "std = df_dec_std[parameter]\n",
    "plt.xticks(x, param_vars, rotation='vertical')\n",
    "plt.errorbar(x, y, std, linestyle='None',  markersize= 4, capsize=4, marker='o', color='red')\n",
    "\n",
    "parameter = 'final_mean_weight_s'\n",
    "x = df_dec_mean.index\n",
    "y = df_dec_mean[parameter]\n",
    "std = df_dec_std[parameter]\n",
    "plt.xticks(x, param_vars, rotation='vertical')\n",
    "plt.errorbar(x, y, std, linestyle='None',  markersize= 4, capsize=4, marker='o', color='blue')\n",
    "plt.legend()\n",
    "plt.show()"
   ]
  },
  {
   "cell_type": "code",
   "execution_count": null,
   "metadata": {},
   "outputs": [],
   "source": [
    "# final_weight\n",
    "parameter = 'end_mean_weight_w'\n",
    "x = df_dec_mean.index\n",
    "y = df_dec_mean[parameter]\n",
    "std = df_dec_std[parameter]\n",
    "plt.xticks(x, param_vars, rotation='vertical')\n",
    "plt.errorbar(x, y, std, linestyle='None',  markersize= 4, capsize=4, marker='o', color='red')\n",
    "\n",
    "parameter = 'end_mean_weight_s'\n",
    "x = df_dec_mean.index\n",
    "y = df_dec_mean[parameter]\n",
    "std = df_dec_std[parameter]\n",
    "plt.xticks(x, param_vars, rotation='vertical')\n",
    "plt.errorbar(x, y, std, linestyle='None',  markersize= 4, capsize=4, marker='o', color='blue')\n",
    "plt.legend()\n",
    "plt.show()"
   ]
  },
  {
   "cell_type": "code",
   "execution_count": null,
   "metadata": {},
   "outputs": [],
   "source": [
    "# mortality\n",
    "parameter = 'mortality_w'\n",
    "x = df_dec_mean.index\n",
    "y = df_dec_mean[parameter]\n",
    "std = df_dec_std[parameter]\n",
    "plt.xticks(x, param_vars, rotation='vertical')\n",
    "plt.errorbar(x, y, std, linestyle='None',  markersize= 4, capsize=4, marker='o', color='red')\n",
    "\n",
    "parameter = 'mortality_s'\n",
    "x = df_dec_mean.index\n",
    "y = df_dec_mean[parameter]\n",
    "std = df_dec_std[parameter]\n",
    "plt.xticks(x, param_vars, rotation='vertical')\n",
    "plt.errorbar(x, y, std, linestyle='None',  markersize= 4, capsize=4, marker='o', color='blue')\n",
    "plt.legend()\n",
    "plt.show()"
   ]
  },
  {
   "cell_type": "code",
   "execution_count": null,
   "metadata": {},
   "outputs": [],
   "source": []
  },
  {
   "cell_type": "code",
   "execution_count": null,
   "metadata": {},
   "outputs": [],
   "source": []
  },
  {
   "cell_type": "code",
   "execution_count": null,
   "metadata": {},
   "outputs": [],
   "source": []
  },
  {
   "cell_type": "code",
   "execution_count": null,
   "metadata": {},
   "outputs": [],
   "source": []
  },
  {
   "cell_type": "code",
   "execution_count": null,
   "metadata": {},
   "outputs": [],
   "source": []
  }
 ],
 "metadata": {
  "kernelspec": {
   "display_name": "Python 3",
   "language": "python",
   "name": "python3"
  },
  "language_info": {
   "codemirror_mode": {
    "name": "ipython",
    "version": 3
   },
   "file_extension": ".py",
   "mimetype": "text/x-python",
   "name": "python",
   "nbconvert_exporter": "python",
   "pygments_lexer": "ipython3",
   "version": "3.7.2"
  }
 },
 "nbformat": 4,
 "nbformat_minor": 2
}
