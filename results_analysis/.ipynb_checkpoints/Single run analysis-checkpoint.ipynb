{
 "cells": [
  {
   "cell_type": "code",
   "execution_count": null,
   "metadata": {},
   "outputs": [],
   "source": [
    "import pickle\n",
    "import matplotlib.pyplot as plt\n",
    "import numpy as np\n",
    "\n",
    "plt.rcParams['figure.figsize'] = (12, 7)"
   ]
  },
  {
   "cell_type": "code",
   "execution_count": null,
   "metadata": {},
   "outputs": [],
   "source": [
    "# read python dict back from the file\n",
    "pkl_file = open('C:/Users/Marleen/Documents/thesis project/oystercatcher-model/results/single_simulation_runs/1996.pkl', 'rb')\n",
    "results = pickle.load(pkl_file)\n",
    "pkl_file.close()"
   ]
  },
  {
   "cell_type": "code",
   "execution_count": null,
   "metadata": {},
   "outputs": [],
   "source": [
    "mean_foraging_s = np.array(results['mean_foraging_s'])\n",
    "mean_foraging_w = np.array(results['mean_foraging_w'])\n",
    "mean_foraging_s_std = np.array(results['mean_foraging_s_std'])\n",
    "mean_foraging_w_std = np.array(results['mean_foraging_w_std'])"
   ]
  },
  {
   "cell_type": "code",
   "execution_count": null,
   "metadata": {},
   "outputs": [],
   "source": [
    "fig, ax = plt.subplots(3, 1)\n",
    "ax[0].plot(range(350), mean_foraging_s, color='blue')\n",
    "ax[0].fill_between(range(350), mean_foraging_s + mean_foraging_s_std, mean_foraging_s - mean_foraging_s_std, facecolor='blue', alpha=0.5)\n",
    "ax[0].set_ylabel('Hours')\n",
    "ax[0].set_title('Shellfish specialists: mean foraging time with standard deviation')\n",
    "ax[0].set_ylim(0,10)\n",
    "ax[0].set_xlim(0, 350)\n",
    "\n",
    "ax[1].plot(range(350), mean_foraging_w, color='red')\n",
    "ax[1].fill_between(range(350),mean_foraging_w + mean_foraging_w_std, mean_foraging_w - mean_foraging_w_std, facecolor='red', alpha=0.5)\n",
    "ax[1].set_title('Worm specialists: mean foraging time with standard deviation')\n",
    "ax[1].set_ylim(0,10)\n",
    "ax[1].set_xlim(0, 350)\n",
    "\n",
    "ax[2].plot(results['total_num_agents'])\n",
    "ax[2].plot(results['total_num_s'], label=\"shellfish\")\n",
    "ax[2].plot(results['total_num_w'], label=\"worm\")\n",
    "ax[2].legend()\n",
    "ax[2].set_title('Number of agents')\n",
    "ax[2].set_xlabel('Tidal cycle')\n",
    "ax[2].set_xlim(0, 350)\n",
    "fig.tight_layout()\n",
    "plt.savefig('C:/Users/Marleen/Documents/thesis project/Random simulatie resultaten/Update Research Group/test.png')"
   ]
  },
  {
   "cell_type": "code",
   "execution_count": null,
   "metadata": {},
   "outputs": [],
   "source": [
    "fig, ax = plt.subplots(1)\n",
    "ax.plot(range(350), mean_foraging_w, color='blue')\n",
    "ax.fill_between(range(350),mean_foraging_w + mean_foraging_w_std, mean_foraging_w - mean_foraging_w_std, facecolor='blue', alpha=0.5)"
   ]
  },
  {
   "cell_type": "code",
   "execution_count": null,
   "metadata": {},
   "outputs": [],
   "source": [
    "plt.plot(results['total_num_agents'])"
   ]
  },
  {
   "cell_type": "code",
   "execution_count": null,
   "metadata": {},
   "outputs": [],
   "source": [
    "len(mean_foraging_s_std)"
   ]
  },
  {
   "cell_type": "code",
   "execution_count": null,
   "metadata": {},
   "outputs": [],
   "source": []
  }
 ],
 "metadata": {
  "kernelspec": {
   "display_name": "Python 3",
   "language": "python",
   "name": "python3"
  },
  "language_info": {
   "codemirror_mode": {
    "name": "ipython",
    "version": 3
   },
   "file_extension": ".py",
   "mimetype": "text/x-python",
   "name": "python",
   "nbconvert_exporter": "python",
   "pygments_lexer": "ipython3",
   "version": "3.7.2"
  }
 },
 "nbformat": 4,
 "nbformat_minor": 2
}
