{
 "cells": [
  {
   "cell_type": "code",
   "execution_count": null,
   "metadata": {},
   "outputs": [],
   "source": [
    "import numpy as np\n",
    "import matplotlib.pyplot as plt\n",
    "import pandas as pd\n",
    "import toml\n",
    "plt.rcParams['figure.figsize'] = (20, 7)"
   ]
  },
  {
   "cell_type": "markdown",
   "metadata": {},
   "source": [
    "# Get parameter set"
   ]
  },
  {
   "cell_type": "code",
   "execution_count": null,
   "metadata": {},
   "outputs": [],
   "source": [
    "N = 1\n",
    "\n",
    "def create_extra_parameter_set(standard_params):\n",
    "    params = standard_params.copy()\n",
    "\n",
    "    # parameters of interest\n",
    "    vars = ['minimum_weight', \n",
    "            'relative_threshold', \n",
    "            'w_cockle_foraging_mean',\n",
    "            'w_macoma_foraging_mean',\n",
    "            'w_worm_foraging_efficiency',\n",
    "            's_mussel_foraging_mean',\n",
    "            's_cockle_foraging_mean',\n",
    "            's_macoma_foraging_mean',\n",
    "            'agg_factor_mudflats',\n",
    "            'agg_factor_bed']\n",
    "    \n",
    "    # get standard parameter values\n",
    "    params = {var: params[var] for var in vars}\n",
    "    vals = list(params.values())\n",
    "    \n",
    "    # create param set (full set with N reps for every set)\n",
    "    param_sets = []\n",
    "    \n",
    "    # ranges for parameter values\n",
    "    min_weight = np.arange(400, 510, 10)\n",
    "    rel_thres = np.arange(0, 1.6, 0.1)\n",
    "   \n",
    "    w_cockle_for = np.arange(0.5, 1.6, 0.1)\n",
    "    print(len(w_cockle_for))\n",
    "    w_mac_for = np.arange(0.5, 1.6, 0.1)\n",
    "    w_worm_for = np.arange(0.5, 1.6, 0.1)\n",
    "    s_mussel_for = np.arange(0.5, 1.6, 0.1)\n",
    "    s_cockle_for = np.arange(0.5, 1.6, 0.1)\n",
    "    s_mac_for = np.arange(0.5, 1.6, 0.1)\n",
    "    agg_factor_mud = np.arange(0, 55, 5)\n",
    "    agg_factor_bed = np.arange(0, 55, 5)\n",
    "\n",
    "    # for each parameter create new parameter set\n",
    "    for value in min_weight:\n",
    "        new_set = vals.copy()\n",
    "        new_set[0] = value\n",
    "        for j in range(N):\n",
    "            param_sets.append(new_set)\n",
    "    \n",
    "    # and for all the other parameters\n",
    "    for value in rel_thres:\n",
    "        new_set = vals.copy()\n",
    "        new_set[1] = value\n",
    "        for j in range(N):\n",
    "            param_sets.append(new_set)\n",
    "    \n",
    "    for value in w_cockle_for:\n",
    "        new_set = vals.copy()\n",
    "        new_set[2] = value\n",
    "        for j in range(N):\n",
    "            param_sets.append(new_set)\n",
    "    \n",
    "    for value in w_mac_for:\n",
    "        new_set = vals.copy()\n",
    "        new_set[3] = value\n",
    "        for j in range(N):\n",
    "            param_sets.append(new_set)\n",
    "    \n",
    "    for value in w_worm_for:\n",
    "        new_set = vals.copy()\n",
    "        new_set[4] = value\n",
    "        for j in range(N):\n",
    "            param_sets.append(new_set)\n",
    "            \n",
    "    for value in s_mussel_for:\n",
    "        new_set = vals.copy()\n",
    "        new_set[5] = value\n",
    "        for j in range(N):\n",
    "            param_sets.append(new_set)\n",
    "            \n",
    "    for value in s_cockle_for:\n",
    "        new_set = vals.copy()\n",
    "        new_set[6] = value\n",
    "        for j in range(N):\n",
    "            param_sets.append(new_set)\n",
    "    \n",
    "    for value in s_mac_for:\n",
    "        new_set = vals.copy()\n",
    "        new_set[7] = value\n",
    "        for j in range(N):\n",
    "            param_sets.append(new_set)\n",
    "    \n",
    "    for value in agg_factor_mud:\n",
    "        new_set = vals.copy()\n",
    "        new_set[8] = value\n",
    "        for j in range(N):\n",
    "            param_sets.append(new_set)\n",
    "    \n",
    "    for value in agg_factor_bed:\n",
    "        new_set = vals.copy()\n",
    "        new_set[9] = value\n",
    "        for j in range(N):\n",
    "            param_sets.append(new_set)\n",
    "    \n",
    "    # this is our final set!\n",
    "    final_param_set = np.array(param_sets)\n",
    "    \n",
    "    \n",
    "    \n",
    "    # return the set as well as the value keys\n",
    "    return vars, final_param_set"
   ]
  },
  {
   "cell_type": "code",
   "execution_count": null,
   "metadata": {},
   "outputs": [],
   "source": [
    "# load parameters \n",
    "standard_params = toml.load(\"../foragingmodel/config_file.toml\")\n",
    "params = standard_params.copy()\n",
    "\n",
    "# model output variables\n",
    "vars = ['start_num_w', 'start_num_s', 'final_num_w', 'final_num_s', 'final_mean_foraging_w', 'final_mean_foraging_s',\n",
    "        'final_mean_weight_w', 'final_mean_weight_s', 'end_mean_weight_w', 'end_mean_weight_s', 'mean_sumsq_weight_w',\n",
    "        'mean_sumsq_weight_s']\n",
    "\n",
    "# get SA parameters\n",
    "sa_vars, sa_params = create_extra_parameter_set(params)\n",
    "\n",
    "# load results\n",
    "results = np.loadtxt('../results/sensitivity_analysis/extra_sensitivity_standardparams.txt') \n",
    "\n",
    "# put in dataframe\n",
    "df = pd.DataFrame(data=results, columns=vars) \n",
    "\n",
    "# calculate mortality for both groups\n",
    "df['mortality_w'] = df['start_num_w'] - df['final_num_w']\n",
    "df['mortality_s'] = df['start_num_s'] - df['final_num_s']\n",
    "\n",
    "# calculate means/std per N rows\n",
    "N = 5\n",
    "df_means = df.groupby(np.arange(len(df)) // N).mean()\n",
    "df_std = df.groupby(np.arange(len(df)) // N).std()"
   ]
  },
  {
   "cell_type": "code",
   "execution_count": null,
   "metadata": {},
   "outputs": [],
   "source": [
    "min_weight_means = df_means.iloc[0:11]\n",
    "min_weight_std = df_std.iloc[0:11]\n",
    "plt.scatter(min_weight_means.index, min_weight_means.mortality_s)"
   ]
  },
  {
   "cell_type": "code",
   "execution_count": null,
   "metadata": {},
   "outputs": [],
   "source": [
    "rel_thresh_means = df_means.iloc[11:27]\n",
    "rel_thresh_std = df_std.iloc[12:28]\n",
    "plt.scatter(rel_thresh_means.index, rel_thresh_means.mortality_s)"
   ]
  },
  {
   "cell_type": "code",
   "execution_count": null,
   "metadata": {},
   "outputs": [],
   "source": [
    "w_cockle_for_means = df_means.iloc[28:39]\n",
    "w_cockle_for_std = df_std.iloc[28:39]\n",
    "plt.scatter(w_cockle_for_means.index, w_cockle_for_means.mortality_w)\n"
   ]
  },
  {
   "cell_type": "code",
   "execution_count": null,
   "metadata": {},
   "outputs": [],
   "source": [
    "w_mac_for_means = df_means.iloc[39:50]\n",
    "w_mac_for_std = df_means.iloc[39:50]\n",
    "plt.scatter(w_mac_for_means.index, w_mac_for_means.mortality_w)"
   ]
  },
  {
   "cell_type": "code",
   "execution_count": null,
   "metadata": {},
   "outputs": [],
   "source": [
    "w_worm_for_means = df_means.iloc[50:61]\n",
    "plt.scatter(w_worm_for_means.index, w_worm_for_means.final_mean_foraging_w)"
   ]
  },
  {
   "cell_type": "code",
   "execution_count": null,
   "metadata": {},
   "outputs": [],
   "source": [
    "s_mussel_for_means = df_means.iloc[61:72]\n",
    "plt.scatter(s_mussel_for_means.index, s_mussel_for_means.final_mean_foraging_s)"
   ]
  },
  {
   "cell_type": "code",
   "execution_count": null,
   "metadata": {},
   "outputs": [],
   "source": [
    "s_cockle_for_means = df_means.iloc[72:84]\n",
    "plt.scatter(s_cockle_for_means.index, s_cockle_for_means.final_mean_foraging_s)"
   ]
  },
  {
   "cell_type": "code",
   "execution_count": null,
   "metadata": {},
   "outputs": [],
   "source": [
    "agg_mud_means = df_means.iloc[94:104]\n",
    "plt.scatter(agg_mud_means.index, agg_mud_means.mortality_w)"
   ]
  },
  {
   "cell_type": "code",
   "execution_count": null,
   "metadata": {},
   "outputs": [],
   "source": [
    "agg_bed_means = df_means.iloc[104:115]\n",
    "plt.scatter(agg_bed_means.index, agg_bed_means.final_mean_foraging_s)"
   ]
  },
  {
   "cell_type": "code",
   "execution_count": null,
   "metadata": {},
   "outputs": [],
   "source": [
    "# todo: fix even een lijstje met juiste indices, en plot dan alle resultaten"
   ]
  },
  {
   "cell_type": "code",
   "execution_count": null,
   "metadata": {},
   "outputs": [],
   "source": []
  }
 ],
 "metadata": {
  "kernelspec": {
   "display_name": "Python 3",
   "language": "python",
   "name": "python3"
  },
  "language_info": {
   "codemirror_mode": {
    "name": "ipython",
    "version": 3
   },
   "file_extension": ".py",
   "mimetype": "text/x-python",
   "name": "python",
   "nbconvert_exporter": "python",
   "pygments_lexer": "ipython3",
   "version": "3.7.2"
  }
 },
 "nbformat": 4,
 "nbformat_minor": 2
}
