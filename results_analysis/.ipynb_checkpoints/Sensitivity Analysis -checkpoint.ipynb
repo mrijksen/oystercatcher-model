{
 "cells": [
  {
   "cell_type": "code",
   "execution_count": null,
   "metadata": {},
   "outputs": [],
   "source": [
    "import numpy as np\n",
    "import matplotlib.pyplot as plt\n",
    "import pandas as pd\n",
    "import toml"
   ]
  },
  {
   "cell_type": "code",
   "execution_count": null,
   "metadata": {},
   "outputs": [],
   "source": [
    "# load parameters \n",
    "standard_params = toml.load(\"../foragingmodel/config_file.toml\")\n",
    "params = standard_params.copy()\n",
    "\n",
    "# delete parameters not included in SA\n",
    "del params['resolution_min']\n",
    "del params['init_birds']\n",
    "del params['w_mussel_foraging_efficiency']\n",
    "del params['s_worm_foraging_efficiency']\n",
    "del params['mussel_density']\n",
    "del params['relative_density']\n",
    "\n",
    "# list of parameter names\n",
    "param_vars = list(params.keys())\n",
    "\n",
    "# load results\n",
    "results = np.loadtxt('../results/sensitivity_analysis/sensitivity_standardparams_25percent.txt') \n",
    "\n",
    "N = 5\n",
    "\n",
    "vars = ['start_num_w', 'start_num_s', 'final_num_w', 'final_num_s', 'final_mean_foraging_w', 'final_mean_foraging_s',\n",
    "        'final_mean_weight_w', 'final_mean_weight_s', 'end_mean_weight_w', 'end_mean_weight_s', 'mean_sumsq_weight_w',\n",
    "        'mean_sumsq_weight_s']\n",
    "\n",
    "# create dataframe of results\n",
    "df = pd.DataFrame(data=results, columns=vars) \n",
    "\n",
    "# calculate mortality for both groups\n",
    "df['mortality_w'] = df['start_num_w'] - df['final_num_w']\n",
    "df['mortality_s'] = df['start_num_s'] - df['final_num_s']\n",
    "\n",
    "# calculate means per N rows\n",
    "df_means = df.groupby(np.arange(len(df)) // N).mean()\n",
    "\n",
    "# split dataframe in increase/decrease\n",
    "df_inc = df_means.iloc[:int(df_means.shape[0]/2)]\n",
    "df_dec = df_means.iloc[:int(len(results/2))]"
   ]
  },
  {
   "cell_type": "code",
   "execution_count": null,
   "metadata": {},
   "outputs": [],
   "source": [
    "df_inc.shape"
   ]
  },
  {
   "cell_type": "code",
   "execution_count": null,
   "metadata": {},
   "outputs": [],
   "source": [
    "plt.scatter(df_inc.index, df_inc['final_mean_weight_w'])\n",
    "plt.yticks(param_vars, rotation='vertical')\n",
    "# plt.scatter(df_means.index, df_means['final_mean_weight_s'])"
   ]
  },
  {
   "cell_type": "code",
   "execution_count": null,
   "metadata": {},
   "outputs": [],
   "source": [
    "plt.scatter(df_means.index, )"
   ]
  },
  {
   "cell_type": "markdown",
   "metadata": {},
   "source": [
    "# Increase of parameters by 25%"
   ]
  },
  {
   "cell_type": "code",
   "execution_count": null,
   "metadata": {},
   "outputs": [],
   "source": [
    "df_inc"
   ]
  },
  {
   "cell_type": "code",
   "execution_count": null,
   "metadata": {},
   "outputs": [],
   "source": [
    "df_dec.shape"
   ]
  },
  {
   "cell_type": "code",
   "execution_count": null,
   "metadata": {},
   "outputs": [],
   "source": []
  }
 ],
 "metadata": {
  "kernelspec": {
   "display_name": "Python 3",
   "language": "python",
   "name": "python3"
  },
  "language_info": {
   "codemirror_mode": {
    "name": "ipython",
    "version": 3
   },
   "file_extension": ".py",
   "mimetype": "text/x-python",
   "name": "python",
   "nbconvert_exporter": "python",
   "pygments_lexer": "ipython3",
   "version": "3.7.2"
  }
 },
 "nbformat": 4,
 "nbformat_minor": 2
}
