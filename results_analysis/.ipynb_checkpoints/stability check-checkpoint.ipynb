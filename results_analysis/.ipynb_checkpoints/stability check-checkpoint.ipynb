{
 "cells": [
  {
   "cell_type": "code",
   "execution_count": null,
   "metadata": {},
   "outputs": [],
   "source": [
    "import numpy as np\n",
    "import matplotlib.pyplot as plt\n",
    "import pandas as pd"
   ]
  },
  {
   "cell_type": "code",
   "execution_count": null,
   "metadata": {},
   "outputs": [],
   "source": [
    "# worse parameters\n",
    "results = np.loadtxt('../results/stability_analysis/stability_16agg_mud_bed_0_6_threshold_0_5_reldensity_10000agents.txt') \n",
    "\n",
    "# standard params\n",
    "results = np.loadtxt('../results/stability_analysis/stability_standardparams_10000agents.txt') "
   ]
  },
  {
   "cell_type": "code",
   "execution_count": null,
   "metadata": {},
   "outputs": [],
   "source": [
    "# get relevant data\n",
    "mean_foraging_w = results[:, 4]\n",
    "mean_foraging_s = results[:, 5]\n",
    "mortality_w = results[:, 0] - results[:, 2]\n",
    "mortality_s = results[:, 1] - results[:, 3]\n",
    "\n",
    "# create df with data\n",
    "df = pd.DataFrame()\n",
    "df['mean_foraging_w'] = mean_foraging_w\n",
    "df['mean_foraging_s'] = mean_foraging_s\n",
    "df['mortality_w'] = mortality_w \n",
    "df['mortality_s'] = mortality_s\n",
    "\n",
    "# calculate rolling mean and std\n",
    "df['rolling_mean_foraging_w'] = df['mean_foraging_w'].rolling(window=df.shape[0], min_periods=1).mean()\n",
    "df['rolling_mean_foraging_s'] = df['mean_foraging_s'].rolling(window=df.shape[0], min_periods=1).mean()\n",
    "df['rolling_std_foraging_w'] = df['mean_foraging_w'].rolling(window=df.shape[0], min_periods=1).std()\n",
    "df['rolling_std_foraging_s'] = df['mean_foraging_s'].rolling(window=df.shape[0], min_periods=1).std()\n",
    "df['rolling_mean_mortality_w'] = df['mortality_w'].rolling(window=df.shape[0], min_periods=1).mean()\n",
    "df['rolling_std_mortality_w'] = df['mortality_w'].rolling(window=df.shape[0], min_periods=1).std()\n",
    "df['rolling_mean_mortality_s'] = df['mortality_s'].rolling(window=df.shape[0], min_periods=1).mean()\n",
    "df['rolling_std_mortality_s'] = df['mortality_s'].rolling(window=df.shape[0], min_periods=1).std()\n",
    "\n",
    "# calculate coefficient of variation\n",
    "df['coeffvar_mean_foraging_w'] = df['rolling_std_foraging_w'] / df['rolling_mean_foraging_w']\n",
    "df['coeffvar_mean_foraging_s'] = df['rolling_std_foraging_s'] / df['rolling_mean_foraging_s']\n",
    "df['coeffvar_mean_mortality_w'] = df['rolling_std_mortality_w'] / df['rolling_mean_mortality_w']\n",
    "df['coeffvar_mean_mortality_s'] = df['rolling_std_mortality_s'] / df['rolling_mean_mortality_s']\n",
    "\n",
    "# take first 100 runs\n",
    "df = df.iloc[0:100]"
   ]
  },
  {
   "cell_type": "code",
   "execution_count": null,
   "metadata": {},
   "outputs": [],
   "source": [
    "plt.plot(df['rolling_mean_foraging_s'])"
   ]
  },
  {
   "cell_type": "code",
   "execution_count": null,
   "metadata": {},
   "outputs": [],
   "source": [
    "plt.plot(df['rolling_mean_foraging_w'])"
   ]
  },
  {
   "cell_type": "code",
   "execution_count": null,
   "metadata": {},
   "outputs": [],
   "source": [
    "plt.plot(df['rolling_mean_mortality_w'])"
   ]
  },
  {
   "cell_type": "code",
   "execution_count": null,
   "metadata": {},
   "outputs": [],
   "source": [
    "plt.plot(df['rolling_mean_mortality_s'])"
   ]
  },
  {
   "cell_type": "code",
   "execution_count": null,
   "metadata": {},
   "outputs": [],
   "source": [
    "plt.plot(df['coeffvar_mean_foraging_w'])"
   ]
  },
  {
   "cell_type": "code",
   "execution_count": null,
   "metadata": {},
   "outputs": [],
   "source": [
    "plt.plot(df['coeffvar_mean_foraging_s'])"
   ]
  },
  {
   "cell_type": "code",
   "execution_count": null,
   "metadata": {},
   "outputs": [],
   "source": [
    "plt.plot(df['coeffvar_mean_mortality_w'])"
   ]
  },
  {
   "cell_type": "code",
   "execution_count": null,
   "metadata": {},
   "outputs": [],
   "source": [
    "plt.plot(df['coeffvar_mean_mortality_s'])"
   ]
  },
  {
   "cell_type": "code",
   "execution_count": null,
   "metadata": {},
   "outputs": [],
   "source": [
    "df['coeffvar_mean_mortality_s']"
   ]
  },
  {
   "cell_type": "code",
   "execution_count": null,
   "metadata": {},
   "outputs": [],
   "source": []
  }
 ],
 "metadata": {
  "kernelspec": {
   "display_name": "Python 3",
   "language": "python",
   "name": "python3"
  },
  "language_info": {
   "codemirror_mode": {
    "name": "ipython",
    "version": 3
   },
   "file_extension": ".py",
   "mimetype": "text/x-python",
   "name": "python",
   "nbconvert_exporter": "python",
   "pygments_lexer": "ipython3",
   "version": "3.7.2"
  }
 },
 "nbformat": 4,
 "nbformat_minor": 2
}
