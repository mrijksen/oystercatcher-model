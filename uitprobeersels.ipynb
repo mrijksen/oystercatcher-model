{
 "cells": [
  {
   "cell_type": "code",
   "execution_count": null,
   "metadata": {},
   "outputs": [],
   "source": [
    "from model import OystercatcherModel\n",
    "\n",
    "import random\n",
    "import numpy as np"
   ]
  },
  {
   "cell_type": "markdown",
   "metadata": {},
   "source": [
    "# Input data and parameters"
   ]
  },
  {
   "cell_type": "code",
   "execution_count": null,
   "metadata": {},
   "outputs": [],
   "source": [
    "# create some data\n",
    "num_patches = 10\n",
    "timesteps = 40\n",
    "\n",
    "# initial prey for all patches\n",
    "init_prey = [random.randint(0, 100) for x in range(num_patches)]\n",
    "\n",
    "# availability for all patches for all timesteps\n",
    "# rows = timesteps, columns = patches\n",
    "availability = np.random.randint(0, 2, (num_patches, timesteps))\n",
    "\n",
    "# tidal cycle data\n",
    "# list with integers indicating tidal cycle number\n",
    "tidal_length = 3\n",
    "num_tidals = timesteps / tidal_length\n",
    "tidal_cycle = [i//tidal_length for i in range(timesteps)]\n",
    "\n",
    "# tidal cycle data\n",
    "# list indicating the number of timesteps for each tidal cycle\n",
    "\n",
    "# initial number of birds\n",
    "init_birds = 10"
   ]
  },
  {
   "cell_type": "code",
   "execution_count": null,
   "metadata": {},
   "outputs": [],
   "source": [
    "# instantiate model\n",
    "model = OystercatcherModel(init_prey, availability, 10, init_birds, True)"
   ]
  },
  {
   "cell_type": "code",
   "execution_count": null,
   "metadata": {},
   "outputs": [],
   "source": [
    "model.run_model(timesteps)"
   ]
  },
  {
   "cell_type": "code",
   "execution_count": null,
   "metadata": {},
   "outputs": [],
   "source": [
    "random.sample(range(1), 100)"
   ]
  },
  {
   "cell_type": "code",
   "execution_count": null,
   "metadata": {},
   "outputs": [],
   "source": []
  }
 ],
 "metadata": {
  "kernelspec": {
   "display_name": "Python 3",
   "language": "python",
   "name": "python3"
  },
  "language_info": {
   "codemirror_mode": {
    "name": "ipython",
    "version": 3
   },
   "file_extension": ".py",
   "mimetype": "text/x-python",
   "name": "python",
   "nbconvert_exporter": "python",
   "pygments_lexer": "ipython3",
   "version": "3.7.2"
  }
 },
 "nbformat": 4,
 "nbformat_minor": 2
}
