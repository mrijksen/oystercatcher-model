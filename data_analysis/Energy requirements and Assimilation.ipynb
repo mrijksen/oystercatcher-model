{
 "cells": [
  {
   "cell_type": "markdown",
   "metadata": {},
   "source": [
    "# Some formulas for energy requirements"
   ]
  },
  {
   "cell_type": "code",
   "execution_count": null,
   "metadata": {},
   "outputs": [],
   "source": [
    "import matplotlib.pyplot as plt"
   ]
  },
  {
   "cell_type": "markdown",
   "metadata": {},
   "source": [
    "### Formulas used in WEBTICS"
   ]
  },
  {
   "cell_type": "code",
   "execution_count": null,
   "metadata": {},
   "outputs": [],
   "source": [
    "\n",
    "# daily metabolic energy requirement kJ/day \n",
    "daily_metabolic_E = lambda m : 0.061 * m ** 1.489\n",
    "\n",
    "# costs of thermoregulation\n",
    "thermo_E = lambda T: 904 - T * 30.3"
   ]
  },
  {
   "cell_type": "markdown",
   "metadata": {},
   "source": [
    "### Create same plot as in WEBTICS page 56"
   ]
  },
  {
   "cell_type": "code",
   "execution_count": null,
   "metadata": {},
   "outputs": [],
   "source": [
    "# iterate over temperature values\n",
    "temperature = []\n",
    "daily_energy_requirement_550 = []\n",
    "daily_energy_requirement_500 = []\n",
    "daily_energy_requirement_510 = []\n",
    "daily_energy_requirement_450 = []\n",
    "\n",
    "for i in range(-10, 20):\n",
    "    temperature.append(i)\n",
    "    thermoregulation = thermo_E(i)\n",
    "    daily_metabolic_energy_550 = daily_metabolic_E(550)\n",
    "    daily_metabolic_energy_500 = daily_metabolic_E(500)\n",
    "    daily_metabolic_energy_510 = daily_metabolic_E(510)\n",
    "    daily_metabolic_energy_450 = daily_metabolic_E(450)\n",
    "\n",
    "    daily_energy_requirement_550.append(max(daily_metabolic_energy_550, thermoregulation))\n",
    "    daily_energy_requirement_500.append(max(daily_metabolic_energy_500, thermoregulation))\n",
    "    daily_energy_requirement_510.append(max(daily_metabolic_energy_510, thermoregulation))\n",
    "    daily_energy_requirement_450.append(max(daily_metabolic_energy_450, thermoregulation))\n",
    "\n",
    "\n",
    "# plot\n",
    "plt.figure(figsize=(10,6))\n",
    "plt.plot(thermoregulation)\n",
    "plt.title(\"Daily Required Energy for Different Bird Masses\", size=18)\n",
    "plt.plot(temperature, daily_energy_requirement_550, label=\"550g\")\n",
    "plt.plot(temperature, daily_energy_requirement_500, label=\"500g\")\n",
    "plt.plot(temperature, daily_energy_requirement_450, label=\"450g\")\n",
    "plt.xlabel(\"Temperature (Celsius)\", size=15)\n",
    "plt.ylabel(\"kJ\", size=15)\n",
    "plt.axvline(x=0)\n",
    "plt.legend()\n"
   ]
  },
  {
   "cell_type": "code",
   "execution_count": null,
   "metadata": {},
   "outputs": [],
   "source": [
    "daily_energy_requirement_510[20] * 12.5 / (24)\n"
   ]
  },
  {
   "cell_type": "markdown",
   "metadata": {},
   "source": [
    "### Formula for energy expenditure in Stillman"
   ]
  },
  {
   "cell_type": "code",
   "execution_count": null,
   "metadata": {},
   "outputs": [],
   "source": [
    "def energy_requirements(T):\n",
    "    Tcrit = 10\n",
    "    Egen = 673.2\n",
    "    Etherm = 31.8\n",
    "    if T > Tcrit:\n",
    "        E = Egen\n",
    "    else:\n",
    "        E = Egen + Etherm * (Tcrit - T)\n",
    "    return E"
   ]
  },
  {
   "cell_type": "markdown",
   "metadata": {},
   "source": [
    "#### Plot of energy expenditure (Stillman)"
   ]
  },
  {
   "cell_type": "code",
   "execution_count": null,
   "metadata": {},
   "outputs": [],
   "source": [
    "temperature = []\n",
    "energy_req = []\n",
    "\n",
    "for i in range(-10, 20):\n",
    "    temperature.append(i)\n",
    "    energy_req.append(energy_requirements(i))\n",
    "    \n",
    "# plot\n",
    "plt.figure(figsize=(10,6))\n",
    "plt.plot(thermoregulation)\n",
    "plt.title(\"Daily Required Energy\", size=18)\n",
    "plt.plot(temperature, energy_req)\n",
    "plt.xlabel(\"Temperature (Celsius)\", size=15)\n",
    "plt.ylabel(\"kJ\", size=15)\n",
    "plt.axvline(x=0)"
   ]
  },
  {
   "cell_type": "markdown",
   "metadata": {},
   "source": [
    "### Plot of Stillman and Webtics Energy requirements"
   ]
  },
  {
   "cell_type": "code",
   "execution_count": null,
   "metadata": {},
   "outputs": [],
   "source": [
    "plt.figure(figsize=(10,6))\n",
    "plt.plot(thermoregulation)\n",
    "plt.title(\"Daily Required Energy for Different Bird Masses\", size=18)\n",
    "plt.plot(temperature, daily_energy_requirement_550, label=\"550g\")\n",
    "plt.plot(temperature, daily_energy_requirement_500, label=\"500g\")\n",
    "plt.plot(temperature, daily_energy_requirement_450, label=\"450g\")\n",
    "plt.plot(temperature, energy_req, label=\"Stillman curve\")\n",
    "plt.xlabel(\"Temperature (Celsius)\", size=15)\n",
    "plt.ylabel(\"kJ\", size=15)\n",
    "plt.axvline(x=0)\n",
    "plt.legend()\n"
   ]
  },
  {
   "cell_type": "code",
   "execution_count": null,
   "metadata": {},
   "outputs": [],
   "source": []
  }
 ],
 "metadata": {
  "kernelspec": {
   "display_name": "Python 3",
   "language": "python",
   "name": "python3"
  },
  "language_info": {
   "codemirror_mode": {
    "name": "ipython",
    "version": 3
   },
   "file_extension": ".py",
   "mimetype": "text/x-python",
   "name": "python",
   "nbconvert_exporter": "python",
   "pygments_lexer": "ipython3",
   "version": "3.7.2"
  }
 },
 "nbformat": 4,
 "nbformat_minor": 2
}
