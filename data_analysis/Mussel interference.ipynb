{
 "cells": [
  {
   "cell_type": "code",
   "execution_count": null,
   "metadata": {},
   "outputs": [],
   "source": [
    "import matplotlib.pyplot as plt\n",
    "import numpy as np"
   ]
  },
  {
   "cell_type": "code",
   "execution_count": null,
   "metadata": {},
   "outputs": [],
   "source": [
    "def interference_stillman(density_competitors, local_dominance):\n",
    "    \"\"\"Helper method to calculate intake rate reduction as described in Stillman.\n",
    "    :return:\n",
    "    \"\"\"\n",
    "    # set density competitors to ha\n",
    "    density_competitors = density_competitors * 10000\n",
    "    \n",
    "    # parameters\n",
    "    competitors_threshold = 158 # density of competitors above which interference occurs in ha-1\n",
    "    a = 0.437 # parameters for stabbers as described by Stillman 1996\n",
    "    b = -0.00721 #todo: check 587 for threshold\n",
    "\n",
    "    # calculate relative intake rate\n",
    "    if density_competitors > competitors_threshold:\n",
    "        m = a + b * local_dominance\n",
    "        relative_intake_rate = ((density_competitors + 1) / (competitors_threshold + 1)) ** -m\n",
    "    else:\n",
    "        relative_intake_rate = 1\n",
    "    return relative_intake_rate"
   ]
  },
  {
   "cell_type": "code",
   "execution_count": null,
   "metadata": {},
   "outputs": [],
   "source": [
    "rel_int = [interference_stillman(i, 100) for i in (np.arange(0, 1500, 0.01)/10000)]"
   ]
  },
  {
   "cell_type": "code",
   "execution_count": null,
   "metadata": {},
   "outputs": [],
   "source": [
    "plt.plot(np.arange(0, 1500, 0.01),rel_int)"
   ]
  },
  {
   "cell_type": "code",
   "execution_count": null,
   "metadata": {},
   "outputs": [],
   "source": [
    "interference_stillman(0.099, 9.9)"
   ]
  },
  {
   "cell_type": "code",
   "execution_count": null,
   "metadata": {},
   "outputs": [],
   "source": [
    "def interference_stillman(density_competitors, local_dominance):\n",
    "    \"\"\"Helper method to calculate intake rate reduction as described in Stillman.\n",
    "    :return:\n",
    "    \"\"\"\n",
    "\n",
    "    # parameters\n",
    "    competitors_threshold = 0 # density of competitors above which interference occurs ha-1\n",
    "    a = 0.437 # parameters for stabbers as described by Stillman 1996\n",
    "    b = -0.00721 #todo: check 587 for threshold\n",
    "\n",
    "    # set density competitors to ha\n",
    "    density_competitors = density_competitors * 10000\n",
    "\n",
    "    # calculate relative intake rate\n",
    "    if density_competitors > competitors_threshold:\n",
    "        m = a + b * local_dominance\n",
    "        relative_intake_rate = ((density_competitors + 1) / (competitors_threshold + 1)) ** -m\n",
    "    else:\n",
    "        relative_intake_rate = 1\n",
    "\n",
    "    return relative_intake_rate"
   ]
  },
  {
   "cell_type": "code",
   "execution_count": null,
   "metadata": {},
   "outputs": [],
   "source": []
  }
 ],
 "metadata": {
  "kernelspec": {
   "display_name": "Python 3",
   "language": "python",
   "name": "python3"
  },
  "language_info": {
   "codemirror_mode": {
    "name": "ipython",
    "version": 3
   },
   "file_extension": ".py",
   "mimetype": "text/x-python",
   "name": "python",
   "nbconvert_exporter": "python",
   "pygments_lexer": "ipython3",
   "version": "3.7.2"
  }
 },
 "nbformat": 4,
 "nbformat_minor": 2
}
