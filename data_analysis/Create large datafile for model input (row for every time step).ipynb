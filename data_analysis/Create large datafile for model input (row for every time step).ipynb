{
 "cells": [
  {
   "cell_type": "code",
   "execution_count": null,
   "metadata": {},
   "outputs": [],
   "source": [
    "import pandas as pd\n",
    "import matplotlib.pyplot as plt\n",
    "import datetime\n",
    "import numpy as np\n",
    "from scipy.signal import argrelextrema\n",
    "from scipy import signal\n",
    "\n",
    "plt.rcParams['figure.figsize'] = (18, 8)"
   ]
  },
  {
   "cell_type": "markdown",
   "metadata": {},
   "source": [
    "# Choose Time Interval"
   ]
  },
  {
   "cell_type": "code",
   "execution_count": null,
   "metadata": {},
   "outputs": [],
   "source": [
    "start_date = datetime.date(2017,9,1)\n",
    "end_date = datetime.date(2017,9,10)"
   ]
  },
  {
   "cell_type": "markdown",
   "metadata": {},
   "source": [
    "# Load Water level data"
   ]
  },
  {
   "cell_type": "code",
   "execution_count": null,
   "metadata": {},
   "outputs": [],
   "source": [
    "# load the water level data\n",
    "path = \"C:/Users/Marleen/Documents/thesis project/Data zaken/Data/Getij data/Waterhoogte Vlieland gemeten per 10 minuten.csv\"\n",
    "df_water_levels = pd.read_csv(path, delimiter=\";\")\n",
    "\n",
    "# set date time to pandas timestamp \n",
    "df_water_levels['date_time'] = pd.to_datetime(df_water_levels['date_time'])\n",
    "\n",
    "# drop location and obstype and tijd, datum\n",
    "df_water_levels = df_water_levels[['date_time','waterheight']]\n",
    "\n",
    "# select dates \n",
    "df_water_levels = df_water_levels.loc[(df_water_levels['date_time'].dt.date >= start_date) & (df_water_levels['date_time'].dt.date < end_date)]\n",
    "# plt.plot(df_water_levels['date_time'], df_water_levels['waterheight'])\n",
    "\n",
    "df_water_levels"
   ]
  },
  {
   "cell_type": "markdown",
   "metadata": {},
   "source": [
    "# Load high/low tide time stamps"
   ]
  },
  {
   "cell_type": "code",
   "execution_count": null,
   "metadata": {},
   "outputs": [],
   "source": [
    "# load the data\n",
    "path = \"C:/Users/Marleen/Documents/thesis project/Data zaken/Data/Getij data/Tijden Hoogwater en Laagwater Vlieland vanaf 2016.csv\"\n",
    "df_tide_times = pd.read_csv(path, delimiter=\";\")\n",
    "\n",
    "# remove unnessary columns\n",
    "df_tide_times = df_tide_times[['date_time', 'waterhoogte', 'extreem']]\n",
    "\n",
    "# set date time to pandas timestamp \n",
    "df_tide_times['date_time'] = pd.to_datetime(df_tide_times['date_time'])\n",
    "\n",
    "# select dates \n",
    "df_tide_times = df_tide_times.loc[(df_tide_times['date_time'].dt.date >= start_date) & (df_tide_times['date_time'].dt.date < end_date)]\n",
    "\n",
    "# transform data from europe time to UTC\n",
    "df_tide_times['date_time'] = df_tide_times['date_time'].dt.tz_localize('Europe/London').dt.tz_convert('UTC')\n",
    "\n",
    "# round timestamps to intervals of 10 minutes\n",
    "df_tide_times['date_time'] = df_tide_times['date_time'].dt.round('10min') \n",
    "df_tide_times.head()"
   ]
  },
  {
   "cell_type": "markdown",
   "metadata": {},
   "source": [
    "# Plot some results"
   ]
  },
  {
   "cell_type": "code",
   "execution_count": null,
   "metadata": {},
   "outputs": [],
   "source": [
    "plt.plot(df_water_levels['date_time'], df_water_levels['waterheight'])\n",
    "plt.plot(df_tide_times[df_tide_times['extreem'] == 'HW'].date_time, df_tide_times[df_tide_times['extreem'] == 'HW'].waterhoogte, 'ro')"
   ]
  },
  {
   "cell_type": "markdown",
   "metadata": {},
   "source": [
    "# Merge data sets and use waterheight from waterlevels data frame\n",
    "\n",
    "The water levels from both data sets do not correspond perfectly, so choose one the water levels in the water levels dataframe to work with."
   ]
  },
  {
   "cell_type": "code",
   "execution_count": null,
   "metadata": {},
   "outputs": [],
   "source": [
    "# convert to same date time format as water levels data\n",
    "df_tide_times['date_time'] = df_tide_times['date_time'].values.astype('datetime64[ns]')\n",
    "\n",
    "# perform left join on date time\n",
    "df_water_levels_tides = pd.merge(df_water_levels, df_tide_times[['date_time','extreem']], how='left', on='date_time')"
   ]
  },
  {
   "cell_type": "code",
   "execution_count": null,
   "metadata": {},
   "outputs": [],
   "source": [
    "df_water_levels_tides"
   ]
  },
  {
   "cell_type": "code",
   "execution_count": null,
   "metadata": {},
   "outputs": [],
   "source": [
    "df_water_levels['date_time']"
   ]
  },
  {
   "cell_type": "code",
   "execution_count": null,
   "metadata": {},
   "outputs": [],
   "source": []
  }
 ],
 "metadata": {
  "kernelspec": {
   "display_name": "Python 3",
   "language": "python",
   "name": "python3"
  },
  "language_info": {
   "codemirror_mode": {
    "name": "ipython",
    "version": 3
   },
   "file_extension": ".py",
   "mimetype": "text/x-python",
   "name": "python",
   "nbconvert_exporter": "python",
   "pygments_lexer": "ipython3",
   "version": "3.7.2"
  }
 },
 "nbformat": 4,
 "nbformat_minor": 2
}
