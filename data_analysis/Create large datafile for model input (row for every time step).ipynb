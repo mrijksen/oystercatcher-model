{
 "cells": [
  {
   "cell_type": "code",
   "execution_count": null,
   "metadata": {},
   "outputs": [],
   "source": [
    "import pandas as pd\n",
    "import matplotlib.pyplot as plt\n",
    "import datetime\n",
    "import numpy as np\n",
    "from scipy.signal import argrelextrema\n",
    "from scipy import signal\n",
    "\n",
    "plt.rcParams['figure.figsize'] = (18, 8)"
   ]
  },
  {
   "cell_type": "markdown",
   "metadata": {},
   "source": [
    "# Choose Time Interval"
   ]
  },
  {
   "cell_type": "code",
   "execution_count": null,
   "metadata": {},
   "outputs": [],
   "source": [
    "start_date = datetime.date(2017,9,1)\n",
    "end_date = datetime.date(2018,3,1)\n",
    "\n",
    "plot = True"
   ]
  },
  {
   "cell_type": "markdown",
   "metadata": {},
   "source": [
    "# Load Water level data"
   ]
  },
  {
   "cell_type": "code",
   "execution_count": null,
   "metadata": {},
   "outputs": [],
   "source": [
    "# load the water level data\n",
    "path = \"C:/Users/Marleen/Documents/thesis project/Data zaken/Data/Getij data/Waterhoogte Vlieland gemeten per 10 minuten.csv\"\n",
    "df_water_levels = pd.read_csv(path, delimiter=\";\")\n",
    "\n",
    "# set date time to pandas timestamp \n",
    "df_water_levels['date_time'] = pd.to_datetime(df_water_levels['date_time'])\n",
    "\n",
    "# drop location and obstype and tijd, datum\n",
    "df_water_levels = df_water_levels[['date_time','waterheight']]\n",
    "\n",
    "# select dates \n",
    "df_water_levels = df_water_levels.loc[(df_water_levels['date_time'].dt.date >= start_date) & (df_water_levels['date_time'].dt.date < end_date)]\n",
    "\n",
    "# for 2018, in February one HW and one LW point is missing\n",
    "if start_date.year == 2017:\n",
    "\n",
    "    date_time_str = '2018-02-08 14:00:00.00000'  \n",
    "    date_time_obj = datetime.datetime.strptime(date_time_str, '%Y-%m-%d %H:%M:%S.%f')\n",
    "    df_water_levels = df_water_levels.append({'date_time' : date_time_obj, 'waterheight' : 43}, ignore_index=True)\n",
    "    df_water_levels = df_water_levels.sort_values(by='date_time')\n",
    "df_water_levels.head()"
   ]
  },
  {
   "cell_type": "markdown",
   "metadata": {},
   "source": [
    "# Load high/low tide time stamps"
   ]
  },
  {
   "cell_type": "code",
   "execution_count": null,
   "metadata": {},
   "outputs": [],
   "source": [
    "# load the data\n",
    "path = \"C:/Users/Marleen/Documents/thesis project/Data zaken/Data/Getij data/Tijden Hoogwater en Laagwater Vlieland vanaf 2016.csv\"\n",
    "df_tide_times = pd.read_csv(path, delimiter=\";\")\n",
    "\n",
    "# remove unnessary columns\n",
    "df_tide_times = df_tide_times[['date_time', 'waterhoogte', 'extreem']]\n",
    "\n",
    "# set date time to pandas timestamp \n",
    "df_tide_times['date_time'] = pd.to_datetime(df_tide_times['date_time'])\n",
    "\n",
    "# select dates \n",
    "df_tide_times = df_tide_times.loc[(df_tide_times['date_time'].dt.date >= start_date) & (df_tide_times['date_time'].dt.date < end_date)]\n",
    "\n",
    "# transform data from europe time to UTC\n",
    "df_tide_times['date_time'] = df_tide_times['date_time'].dt.tz_localize('Europe/London').dt.tz_convert('UTC')\n",
    "\n",
    "# round timestamps to intervals of 10 minutes\n",
    "df_tide_times['date_time'] = df_tide_times['date_time'].dt.round('10min') \n",
    "# df_tide_times['date_time'] = df_tide_times['date_time'].dt.floor('10min') \n",
    "# df_tide_times.head()"
   ]
  },
  {
   "cell_type": "markdown",
   "metadata": {},
   "source": [
    "# Plot some results"
   ]
  },
  {
   "cell_type": "code",
   "execution_count": null,
   "metadata": {},
   "outputs": [],
   "source": [
    "# plt.plot(df_water_levels['date_time'], df_water_levels['waterheight'])\n",
    "# plt.plot(df_tide_times[df_tide_times['extreem'] == 'HW'].date_time, df_tide_times[df_tide_times['extreem'] == 'HW'].waterhoogte, 'ro')"
   ]
  },
  {
   "cell_type": "markdown",
   "metadata": {},
   "source": [
    "# Merge data sets and use waterheight from waterlevels data frame\n",
    "\n",
    "The water levels from both data sets do not correspond perfectly, so choose the water levels in the water levels dataframe to work with.\n",
    "\n",
    "For winter in 2017/2018 one HW point is missing, but WHY?"
   ]
  },
  {
   "cell_type": "code",
   "execution_count": null,
   "metadata": {},
   "outputs": [],
   "source": [
    "# convert to same date time format as water levels data\n",
    "df_tide_times['date_time'] = df_tide_times['date_time'].values.astype('datetime64[ns]')\n",
    "\n",
    "# perform left join on date time\n",
    "df_water_levels_tides = pd.merge(df_water_levels, df_tide_times[['date_time','extreem']], how='left', on='date_time')\n",
    "\n",
    "# make sure the data set starts and ends at high water\n",
    "df_water_levels_tides = df_water_levels_tides.iloc[(df_water_levels_tides['extreem'] == 'HW').values.argmax():]\n",
    "df_water_levels_tides = df_water_levels_tides.loc[:(df_water_levels_tides[df_water_levels_tides['extreem'] == 'HW']).last_valid_index()]\n",
    "\n",
    "# for 2018, in February one HW and one LW point is missing\n",
    "if start_date.year == 2017:\n",
    "\n",
    "    date_time_str = '2018-02-08 14:00:00.00000'  \n",
    "    date_time_obj = datetime.datetime.strptime(date_time_str, '%Y-%m-%d %H:%M:%S.%f')\n",
    "    df_water_levels_tides = df_water_levels_tides.append({'date_time' : date_time_obj, 'waterheight' : 43, 'extreem' : \"HW\"}, ignore_index=True)\n",
    "    df_water_levels_tides = df_water_levels_tides.sort_values(by='date_time')\n",
    "    \n",
    "    date_time_str = '2018-02-06 19:10:00.00000'  \n",
    "    date_time_obj = datetime.datetime.strptime(date_time_str, '%Y-%m-%d %H:%M:%S.%f')\n",
    "    df_water_levels_tides = df_water_levels_tides.append({'date_time' : date_time_obj, 'waterheight' : -126, 'extreem' : \"LW\"}, ignore_index=True)\n",
    "    df_water_levels_tides = df_water_levels_tides.sort_values(by='date_time')\n",
    "\n",
    "\n",
    "\n",
    "# create df with high/low water points \n",
    "df_high_water = df_water_levels_tides[df_water_levels_tides['extreem'] == 'HW']\n",
    "df_low_water = df_water_levels_tides[df_water_levels_tides['extreem'] == 'LW']\n",
    "  \n",
    "\n",
    "# create a plot with water levels and high/low tide points\n",
    "plt.plot(df_water_levels['date_time'], df_water_levels['waterheight'])\n",
    "plt.plot(df_high_water.date_time, df_high_water.waterheight, 'ro')\n",
    "plt.plot(df_low_water.date_time, df_low_water.waterheight, 'go')"
   ]
  },
  {
   "cell_type": "markdown",
   "metadata": {},
   "source": [
    "# Calculate the length of the tidal cycle and the length until low tide\n",
    "\n",
    "For every tidal cycle we want to know how long the cycle lasts (from high tide to the next high tide) and also the time it takes before low tide is reached (from high tide to low tide).\n",
    "\n",
    "The time between tidal cycles is calculated as the number of steps per tidal cycle.\n",
    "\n",
    "(!) Note that if the number of minutes within a time step is changed, this part has to be adapted as well! \n",
    "\n",
    "TODO: Hier even toevoegen dat afhankelijk van low en high tide de indices van elkaar af worden getrokken"
   ]
  },
  {
   "cell_type": "code",
   "execution_count": null,
   "metadata": {},
   "outputs": [],
   "source": [
    "# create extra column in df\n",
    "df_water_levels_tides['time_steps_in_cycle'] = np.nan\n",
    "df_water_levels_tides['time_steps_to_low_tide'] = np.nan\n",
    "\n",
    "# get all indices with high water (easy now, see above code block)\n",
    "high_water_indices = (df_water_levels_tides[df_water_levels_tides['extreem'] == 'HW']).index\n",
    "low_water_indices =  (df_water_levels_tides[df_water_levels_tides['extreem'] == 'LW']).index\n",
    "\n",
    "# number of time steps between high tides\n",
    "num_time_steps_high_tides = np.diff(high_water_indices)\n",
    "\n",
    "# calculate time steps till low tide \n",
    "time_steps_to_low_tide = low_water_indices - high_water_indices[:-1]  \n",
    "# time_steps_to_low_tide = low_water_indices - high_water_indices\n",
    "\n",
    "# couple number of time steps to high water time points (exclude the last one, since this point is the end of the simulation)\n",
    "df_water_levels_tides.time_steps_in_cycle.loc[high_water_indices[:-1]] = num_time_steps_high_tides\n",
    "# df_water_levels_tides.time_steps_in_cycle.loc[high_water_indices] = num_time_steps_high_tides\n",
    "\n",
    "\n",
    "# also add number of time steps to low tide for every high tide\n",
    "df_water_levels_tides.time_steps_to_low_tide.loc[high_water_indices[:-1]] = time_steps_to_low_tide\n",
    "# df_water_levels_tides.time_steps_to_low_tide.loc[high_water_indices] = time_steps_to_low_tide\n",
    "\n",
    "\n",
    "# df_water_levels_tides[(df_water_levels_tides['extreem'] == 'HW') | (df_water_levels_tides['extreem'] == 'LW')]\n",
    "df_water_levels_tides.head()"
   ]
  },
  {
   "cell_type": "markdown",
   "metadata": {},
   "source": [
    "# Insert the reference weight data\n",
    "\n",
    "The data has no date time yet, only the day within a year is mentioned. This day should be converted to a date time object and the data set should then be merged with the existing data set (and only on the high tide moments). \n",
    "\n",
    "Data comes from Zwart & Hulscher et al. (1996): Seasonal and Annual variation in body weight,...\n",
    "\n",
    "(Let op! Dit gedeelte moet mogelijk aangepast worden als we andere jaren simuleren en als het een schrikkeljaar is)"
   ]
  },
  {
   "cell_type": "code",
   "execution_count": null,
   "metadata": {},
   "outputs": [],
   "source": [
    "# simulation years\n",
    "start_year = start_date.year\n",
    "end_year = end_date.year\n",
    "\n",
    "# days in new year (this should be 31 + 29 als schrikkeljaar)\n",
    "days_in_new_y = 31 + 28\n",
    "\n",
    "# load the data\n",
    "path = \"C:/Users/Marleen/Documents/thesis project/Data zaken/Streefgewicht Scholekster.csv\"\n",
    "df_ref_weight = pd.read_csv(path, delimiter=\";\")\n",
    "\n",
    "# add all day numbers (should be 366 in case of schrikkeljaar)\n",
    "new_df = pd.DataFrame()\n",
    "new_df['day'] = range(1, 368)\n",
    "df_ref_weight = pd.merge(new_df, df_ref_weight, how='left')\n",
    "\n",
    "# interpolate to days\n",
    "df_ref_weight = df_ref_weight.interpolate(method='linear')\n",
    "\n",
    "# last row is unnecessary (366 is the first day again)\n",
    "df_ref_weight = df_ref_weight.iloc[:-1]\n",
    "\n",
    "# add year to the data (right now for 2017/2018) \n",
    "df_ref_weight['year'] = np.where(df_ref_weight['day'] < days_in_new_y + 1, end_year, start_year)\n",
    "\n",
    "# add date time to dataframe\n",
    "df_ref_weight['date_time'] = pd.to_datetime(df_ref_weight['year'] * 1000 + df_ref_weight['day'], format='%Y%j')\n",
    "\n",
    "# merge with rest of the data set\n",
    "df_water_levels_tides_weight = pd.merge(df_water_levels_tides, df_ref_weight.weight, left_on=[df_water_levels_tides.date_time.dt.year, df_water_levels_tides.date_time.dt.month, df_water_levels_tides.date_time.dt.day],\n",
    "        right_on=[df_ref_weight.date_time.dt.year, df_ref_weight.date_time.dt.month, df_ref_weight.date_time.dt.day])\n",
    "\n",
    "# plot\n",
    "if plot == True:\n",
    "    plt.plot(df_water_levels_tides_weight.date_time, df_water_levels_tides_weight.weight)\n",
    "    plt.title('Reference Weight')\n",
    "\n",
    "# set non HW rows to np.nan (niet zo netjes zo)\n",
    "df_water_levels_tides_weight.weight.loc[df_water_levels_tides_weight.extreem != \"HW\"] = np.nan\n",
    "\n",
    "# remove key columns (kan netter)\n",
    "df_water_levels_tides_weight = df_water_levels_tides_weight[['date_time', 'waterheight', 'extreem', 'time_steps_in_cycle', 'time_steps_to_low_tide', 'weight']]\n",
    "\n",
    "# change name for convenience\n",
    "df_final = df_water_levels_tides_weight"
   ]
  },
  {
   "cell_type": "markdown",
   "metadata": {},
   "source": [
    "# Insert the temperature data\n",
    "\n",
    "The temperature data should be coupled to the tidal cycles, ideally we choose the average daily temperature in which most of the cycle is located. Another possibility would be to simply get the temperature at the start of the cycle (implementation would be easier then).\n",
    "\n",
    "For now: just take the temperature at the start of the cycle, if time is left we can change this. "
   ]
  },
  {
   "cell_type": "code",
   "execution_count": null,
   "metadata": {},
   "outputs": [],
   "source": [
    "# load the data\n",
    "path = \"C:/Users/Marleen/Documents/thesis project/Data zaken/Data/KNMI data/Weergegevens KNMI Vlieland.csv\"\n",
    "df_temperature = pd.read_csv(path, delimiter=\",\")\n",
    "\n",
    "# only keep temperature and day/time columns\n",
    "df_temperature = df_temperature[['YYYYMMDD', '    T']]\n",
    "\n",
    "# change column names\n",
    "df_temperature.columns = ['date', 'temperature']\n",
    "\n",
    "# set date time to pandas timestamp \n",
    "df_temperature['date_time'] = pd.to_datetime(df_temperature['date'], format='%Y%m%d')\n",
    "df_temperature = df_temperature[['date_time', 'temperature']]\n",
    "\n",
    "# get part of the data we want\n",
    "df_temperature = df_temperature[(df_temperature.date_time.dt.date >= start_date) & (df_temperature.date_time.dt.date < end_date)]\n",
    "\n",
    "# convert to floats\n",
    "df_temperature.temperature = df_temperature.temperature.astype(float)\n",
    "\n",
    "# # get mean temperature per day\n",
    "df_temperature_means = df_temperature.groupby('date_time').mean()\n",
    "df_temperature_means['date_time'] = df_temperature_means.index \n",
    "df_temperature_means = df_temperature_means.reset_index(drop=True)\n",
    "\n",
    "# change temperature to degrees celcius (instead of 0.1 degrees celcius)\n",
    "df_temperature_means.temperature = df_temperature_means.temperature / 10\n",
    "\n",
    "# couple with final df\n",
    "df_final = pd.merge(df_final, df_temperature_means, \n",
    "                    left_on=[df_final.date_time.dt.year, df_final.date_time.dt.month, df_final.date_time.dt.day],\n",
    "                    right_on=[df_temperature_means.date_time.dt.year, \n",
    "                              df_temperature_means.date_time.dt.month, \n",
    "                              df_temperature_means.date_time.dt.day])\n",
    "\n",
    "# grab final columns (keys are in there now)\n",
    "df_final = df_final[['date_time_x', 'waterheight', 'extreem', 'time_steps_in_cycle', \n",
    "                     'time_steps_to_low_tide', 'weight', 'temperature']]\n",
    "df_final=df_final.rename(columns = {'date_time_x':'date_time'})\n",
    "\n",
    "# plot to check if data is logical\n",
    "if plot == True:\n",
    "    plt.plot(df_final.date_time, df_final.temperature)\n",
    "\n",
    "# set temperature of non HW rows to zero\n",
    "df_final.temperature.loc[df_final.extreem != \"HW\"] = np.nan\n",
    "df_final.head()"
   ]
  },
  {
   "cell_type": "code",
   "execution_count": null,
   "metadata": {},
   "outputs": [],
   "source": []
  }
 ],
 "metadata": {
  "kernelspec": {
   "display_name": "Python 3",
   "language": "python",
   "name": "python3"
  },
  "language_info": {
   "codemirror_mode": {
    "name": "ipython",
    "version": 3
   },
   "file_extension": ".py",
   "mimetype": "text/x-python",
   "name": "python",
   "nbconvert_exporter": "python",
   "pygments_lexer": "ipython3",
   "version": "3.7.2"
  }
 },
 "nbformat": 4,
 "nbformat_minor": 2
}
