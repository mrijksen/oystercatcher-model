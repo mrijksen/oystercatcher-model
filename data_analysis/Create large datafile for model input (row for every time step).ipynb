{
 "cells": [
  {
   "cell_type": "code",
   "execution_count": null,
   "metadata": {},
   "outputs": [],
   "source": [
    "import pandas as pd\n",
    "import matplotlib.pyplot as plt\n",
    "import datetime\n",
    "import numpy as np\n",
    "from scipy.signal import argrelextrema\n",
    "from scipy import signal\n",
    "\n",
    "plt.rcParams['figure.figsize'] = (18, 8)"
   ]
  },
  {
   "cell_type": "markdown",
   "metadata": {},
   "source": [
    "# Choose Time Interval"
   ]
  },
  {
   "cell_type": "code",
   "execution_count": null,
   "metadata": {},
   "outputs": [],
   "source": [
    "start_date = datetime.date(2018,1,20)\n",
    "end_date = datetime.date(2018,1,30)"
   ]
  },
  {
   "cell_type": "markdown",
   "metadata": {},
   "source": [
    "# Load Water level data"
   ]
  },
  {
   "cell_type": "code",
   "execution_count": null,
   "metadata": {},
   "outputs": [],
   "source": [
    "# load the water level data\n",
    "path = \"C:/Users/Marleen/Documents/thesis project/Data zaken/Data/Getij data/Waterhoogte Vlieland gemeten per 10 minuten.csv\"\n",
    "df_water_levels = pd.read_csv(path, delimiter=\";\")\n",
    "\n",
    "# set date time to pandas timestamp \n",
    "df_water_levels['date_time'] = pd.to_datetime(df_water_levels['date_time'])\n",
    "\n",
    "# drop location and obstype and tijd, datum\n",
    "df_water_levels = df_water_levels[['date_time','waterheight']]\n",
    "\n",
    "# select dates \n",
    "df_water_levels = df_water_levels.loc[(df_water_levels['date_time'].dt.date >= start_date) & (df_water_levels['date_time'].dt.date < end_date)]"
   ]
  },
  {
   "cell_type": "markdown",
   "metadata": {},
   "source": [
    "# Load high/low tide time stamps"
   ]
  },
  {
   "cell_type": "code",
   "execution_count": null,
   "metadata": {},
   "outputs": [],
   "source": [
    "# load the data\n",
    "path = \"C:/Users/Marleen/Documents/thesis project/Data zaken/Data/Getij data/Tijden Hoogwater en Laagwater Vlieland vanaf 2016.csv\"\n",
    "df_tide_times = pd.read_csv(path, delimiter=\";\")\n",
    "\n",
    "# remove unnessary columns\n",
    "df_tide_times = df_tide_times[['date_time', 'waterhoogte', 'extreem']]\n",
    "\n",
    "# set date time to pandas timestamp \n",
    "df_tide_times['date_time'] = pd.to_datetime(df_tide_times['date_time'])\n",
    "\n",
    "# select dates \n",
    "df_tide_times = df_tide_times.loc[(df_tide_times['date_time'].dt.date >= start_date) & (df_tide_times['date_time'].dt.date < end_date)]\n",
    "\n",
    "# transform data from europe time to UTC\n",
    "df_tide_times['date_time'] = df_tide_times['date_time'].dt.tz_localize('Europe/London').dt.tz_convert('UTC')\n",
    "\n",
    "# round timestamps to intervals of 10 minutes\n",
    "df_tide_times['date_time'] = df_tide_times['date_time'].dt.round('10min') \n",
    "df_tide_times.head()"
   ]
  },
  {
   "cell_type": "markdown",
   "metadata": {},
   "source": [
    "# Plot some results"
   ]
  },
  {
   "cell_type": "code",
   "execution_count": null,
   "metadata": {},
   "outputs": [],
   "source": [
    "plt.plot(df_water_levels['date_time'], df_water_levels['waterheight'])\n",
    "plt.plot(df_tide_times[df_tide_times['extreem'] == 'HW'].date_time, df_tide_times[df_tide_times['extreem'] == 'HW'].waterhoogte, 'ro')"
   ]
  },
  {
   "cell_type": "markdown",
   "metadata": {},
   "source": [
    "# Merge data sets and use waterheight from waterlevels data frame\n",
    "\n",
    "The water levels from both data sets do not correspond perfectly, so choose the water levels in the water levels dataframe to work with."
   ]
  },
  {
   "cell_type": "code",
   "execution_count": null,
   "metadata": {},
   "outputs": [],
   "source": [
    "# convert to same date time format as water levels data\n",
    "df_tide_times['date_time'] = df_tide_times['date_time'].values.astype('datetime64[ns]')\n",
    "\n",
    "# perform left join on date time\n",
    "df_water_levels_tides = pd.merge(df_water_levels, df_tide_times[['date_time','extreem']], how='left', on='date_time')\n",
    "\n",
    "# make sure the data set starts and ends at high water\n",
    "df_water_levels_tides = df_water_levels_tides.iloc[(df_water_levels_tides['extreem'] == 'HW').values.argmax():]\n",
    "df_water_levels_tides = df_water_levels_tides.loc[:(df_water_levels_tides[df_water_levels_tides['extreem'] == 'HW']).last_valid_index()]\n",
    "\n",
    "# create df with high/low water points \n",
    "df_high_water = df_water_levels_tides[df_water_levels_tides['extreem'] == 'HW']\n",
    "df_low_water = df_water_levels_tides[df_water_levels_tides['extreem'] == 'LW']\n",
    "\n",
    "# create a plot with water levels and high/low tide points\n",
    "plt.plot(df_water_levels['date_time'], df_water_levels['waterheight'])\n",
    "plt.plot(df_high_water.date_time, df_high_water.waterheight, 'ro')\n",
    "plt.plot(df_low_water.date_time, df_low_water.waterheight, 'go')"
   ]
  },
  {
   "cell_type": "markdown",
   "metadata": {},
   "source": [
    "# Calculate the length of the tidal cycle and the length until low tide\n",
    "\n",
    "For every tidal cycle we want to know how long the cycle lasts (from high tide to the next high tide) and also the time it takes before low tide is reached (from high tide to low tide).\n",
    "\n",
    "The time between tidal cycles is calculated as the number of steps per tidal cycle.\n",
    "\n",
    "(!) Note that if the number of minutes within a time step is changed, this part has to be adapted as well! "
   ]
  },
  {
   "cell_type": "code",
   "execution_count": null,
   "metadata": {},
   "outputs": [],
   "source": [
    "# create extra column in df\n",
    "df_water_levels_tides['time_steps_in_cycle'] = np.nan\n",
    "df_water_levels_tides['time_steps_to_low_tide'] = np.nan\n",
    "\n",
    "# get all indices with high water (easy now, see above code block)\n",
    "high_water_indices = (df_water_levels_tides[df_water_levels_tides['extreem'] == 'HW']).index\n",
    "low_water_indices =  (df_water_levels_tides[df_water_levels_tides['extreem'] == 'LW']).index\n",
    "\n",
    "# number of time steps between high tides\n",
    "num_time_steps_high_tides = np.diff(high_water_indices)\n",
    "\n",
    "# calculate time steps till low tide\n",
    "time_steps_to_low_tide = low_water_indices - high_water_indices[:-1]  \n",
    "\n",
    "# couple number of time steps to high water time points (exclude the last one, since this point is the end of the simulation)\n",
    "df_water_levels_tides.time_steps_in_cycle.loc[high_water_indices[:-1]] = num_time_steps_high_tides\n",
    "\n",
    "# also add number of time steps to low tide for every high tide\n",
    "df_water_levels_tides.time_steps_to_low_tide.loc[high_water_indices[:-1]] = time_steps_to_low_tide"
   ]
  },
  {
   "cell_type": "code",
   "execution_count": null,
   "metadata": {},
   "outputs": [],
   "source": [
    "time_steps_low_tide"
   ]
  },
  {
   "cell_type": "code",
   "execution_count": null,
   "metadata": {},
   "outputs": [],
   "source": [
    "df_water_levels_tides[70:120]"
   ]
  },
  {
   "cell_type": "code",
   "execution_count": null,
   "metadata": {},
   "outputs": [],
   "source": [
    "102 - 64"
   ]
  },
  {
   "cell_type": "code",
   "execution_count": null,
   "metadata": {},
   "outputs": [],
   "source": [
    "df['z'] = 0\n",
    "# df.y.loc[df.x == 2]\n",
    "df.z.iloc[3] = 1\n",
    "df"
   ]
  },
  {
   "cell_type": "code",
   "execution_count": null,
   "metadata": {},
   "outputs": [],
   "source": [
    "df.iloc[((df['x'] == xEnd) & (df['y'] == yEnd)).values.argmax():]"
   ]
  },
  {
   "cell_type": "code",
   "execution_count": null,
   "metadata": {},
   "outputs": [],
   "source": [
    "((df['x'] == xEnd) & (df['y'] == yEnd)).last_valid_index()"
   ]
  },
  {
   "cell_type": "code",
   "execution_count": null,
   "metadata": {},
   "outputs": [],
   "source": []
  }
 ],
 "metadata": {
  "kernelspec": {
   "display_name": "Python 3",
   "language": "python",
   "name": "python3"
  },
  "language_info": {
   "codemirror_mode": {
    "name": "ipython",
    "version": 3
   },
   "file_extension": ".py",
   "mimetype": "text/x-python",
   "name": "python",
   "nbconvert_exporter": "python",
   "pygments_lexer": "ipython3",
   "version": "3.7.2"
  }
 },
 "nbformat": 4,
 "nbformat_minor": 2
}
