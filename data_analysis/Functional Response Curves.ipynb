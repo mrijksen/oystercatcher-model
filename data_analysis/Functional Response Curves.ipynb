{
 "cells": [
  {
   "cell_type": "code",
   "execution_count": null,
   "metadata": {},
   "outputs": [],
   "source": [
    "import matplotlib.pyplot as plt\n",
    "import numpy as np\n",
    "\n",
    "%matplotlib inline\n",
    "plt.rcParams['figure.figsize'] = [12, 6]"
   ]
  },
  {
   "cell_type": "code",
   "execution_count": null,
   "metadata": {},
   "outputs": [],
   "source": [
    "def functional_response(attack_rate, max_intake_rate, dry_mass_start):\n",
    "    \n",
    "    # calculate handling time\n",
    "    handling_time = dry_mass_start / max_intake_rate\n",
    "    \n",
    "    # calculate capture rate\n",
    "    capture_rates = []\n",
    "    for d in range(0,400):\n",
    "        capture_rate = attack_rate * d / (1 + attack_rate * handling_time * d)\n",
    "        capture_rates.append(capture_rate)\n",
    "    \n",
    "    return np.array(capture_rates)"
   ]
  },
  {
   "cell_type": "code",
   "execution_count": null,
   "metadata": {},
   "outputs": [],
   "source": [
    "# Oosterschelde mussel functional response from webtics\n",
    "\n",
    "# parameters\n",
    "attack_rate = 0.00057\n",
    "dry_mass_start = 850\n",
    "max_intake_rate = 2.5\n",
    "\n",
    "oosterschelde = functional_response(attack_rate, max_intake_rate, dry_mass_start)\n",
    "# plt.plot(handling_time)"
   ]
  },
  {
   "cell_type": "code",
   "execution_count": null,
   "metadata": {},
   "outputs": [],
   "source": [
    "# in webtics they mention formula to calculate plateatu (max intake rate) \n",
    "def max_intake_rate(prey_weight):\n",
    "    max_intake_rate = 0.092 * prey_weight ** 0.506\n",
    "    return max_intake_rate"
   ]
  },
  {
   "cell_type": "code",
   "execution_count": null,
   "metadata": {},
   "outputs": [],
   "source": [
    "# Wadden sea functional response from webtics\n",
    "\n",
    "\n",
    "# parameters\n",
    "max_intake_rate = max_intake_rate(850)\n",
    "attack_rate = 0.00057\n",
    "dry_mass_start = 850 # for now assume this is prey weight\n",
    "\n",
    "wadden_sea = functional_response(attack_rate, max_intake_rate, dry_mass_start)"
   ]
  },
  {
   "cell_type": "code",
   "execution_count": null,
   "metadata": {},
   "outputs": [],
   "source": [
    "# plot from capture rate on wadden sea and oosterschelde\n",
    "plt.figure()\n",
    "plt.plot(wadden_sea, 'r', label=\"Wadden sea\")\n",
    "plt.plot(oosterschelde, label=\"Oosterschelde\")\n",
    "plt.xlabel(\"density\")\n",
    "plt.ylabel(\"capture rate\")\n",
    "plt.title(\"Capture rates\")\n",
    "plt.legend()\n",
    "plt.savefig(\"capture_rate_mussels.png\")"
   ]
  },
  {
   "cell_type": "code",
   "execution_count": null,
   "metadata": {},
   "outputs": [],
   "source": [
    "# plot from capture rate on wadden sea and oosterschelde\n",
    "plt.figure()\n",
    "plt.plot(wadden_sea * 850, 'r', label=\"Wadden sea\")\n",
    "plt.plot(oosterschelde * 850, label=\"Oosterschelde\")\n",
    "plt.xlabel(\"density\")\n",
    "plt.ylabel(\"intake rate\")\n",
    "plt.title(\"Intake rate, mg (AFWD prey of 850 mg)\")\n",
    "plt.legend()\n",
    "plt.savefig(\"intake_mg_mussels_prey_850.png\")"
   ]
  },
  {
   "cell_type": "code",
   "execution_count": null,
   "metadata": {},
   "outputs": [],
   "source": [
    "wadden_sea[49] "
   ]
  },
  {
   "cell_type": "code",
   "execution_count": null,
   "metadata": {},
   "outputs": [],
   "source": [
    "print(max_intake_rate(850))"
   ]
  },
  {
   "cell_type": "code",
   "execution_count": null,
   "metadata": {},
   "outputs": [],
   "source": [
    "# captured in 10 minutes\n",
    "# plot from capture rate on wadden sea and oosterschelde\n",
    "plt.figure()\n",
    "plt.plot(wadden_sea * 60 * 10, 'r', label=\"Wadden sea\")\n",
    "plt.plot(oosterschelde, label=\"Oosterschelde\")\n",
    "plt.xlabel(\"density\")\n",
    "plt.ylabel(\"capture rate\")\n",
    "plt.title(\"Capture rates\")\n",
    "plt.legend()\n",
    "plt.savefig(\"capture_rate_mussels.png\")"
   ]
  },
  {
   "cell_type": "markdown",
   "metadata": {},
   "source": [
    "# Functional Response Cockle todo: add nonnetje"
   ]
  },
  {
   "cell_type": "code",
   "execution_count": null,
   "metadata": {},
   "outputs": [],
   "source": [
    "def combined_capture_rate_cockle(kok1_density, kok1_handling_time, kok2_density=0, kok2_handling_time=0,\n",
    "                                 kokmj_density=0, kokmj_handling_time=0):\n",
    "\n",
    "#     # get density and size of all cockle size classes on patch\n",
    "#     kok1_density = self.model.prey[self.pos][\"kok1\"]\n",
    "#     kok2_density = self.model.prey[self.pos][\"kok2\"]\n",
    "#     kokmj_density = self.model.prey[self.pos][\"kokmj\"]\n",
    "#     kok1_handling_time = self.model.handling_time_cockles[0]\n",
    "#     kok2_handling_time = self.model.handling_time_cockles[1]\n",
    "#     kokmj_handling_time = self.model.handling_time_cockles[2]\n",
    "#     cockle_sizes = self.model.cockle_sizes\n",
    "\n",
    "    # parameters\n",
    "    leoA = 0.000860373  # Zwarts et al. (1996b), taken from WEBTICS\n",
    "    leoB = 0.220524  # Zwarts et al.(1996b)\n",
    "    leoC = 1.79206\n",
    "    attack_rate = leoA * leoB\n",
    "\n",
    "    # calculate capture rate for every size class (number of cockles/s)\n",
    "    capture_rate_kok1_num = attack_rate * kok1_density # numerator of eq 5.9 webtics\n",
    "    capture_rate_kok1_den = attack_rate * kok1_handling_time * kok1_density # denominator\n",
    "    capture_rate_kok2_num = attack_rate * kok2_density\n",
    "    capture_rate_kok2_den = attack_rate * kok2_handling_time * kok2_density\n",
    "    capture_rate_kokmj_num = attack_rate * kokmj_density\n",
    "    capture_rate_kokmj_den = attack_rate * kokmj_handling_time * kokmj_density\n",
    "\n",
    "    # final denominator 5.9 webtics\n",
    "    final_denominator = 1 + capture_rate_kok1_den + capture_rate_kok2_den + capture_rate_kokmj_den\n",
    "\n",
    "    # calculate number of captured prey for each size class\n",
    "    capture_rate_kok1 = capture_rate_kok1_num / final_denominator\n",
    "    capture_rate_kok2 = capture_rate_kok2_num / final_denominator\n",
    "    capture_rate_kokmj = capture_rate_kokmj_num / final_denominator\n",
    "    return capture_rate_kok1, capture_rate_kok2, capture_rate_kokmj\n",
    "\n",
    "def calculate_handling_time_cockles(cockle_size):\n",
    "    \"\"\" Helper method to calculate the handling time for each cockle size class\n",
    "    :param cockle_size: size of cockle in mm\n",
    "    \"\"\"\n",
    "    # parameters\n",
    "    leoA = 0.000860373# Zwarts et al. (1996b), taken from WEBTICS\n",
    "    leoB = 0.220524 # Zwarts et al.(1996b)\n",
    "    leoC = 1.79206\n",
    "    return leoB * (cockle_size ** leoC)\n"
   ]
  },
  {
   "cell_type": "code",
   "execution_count": null,
   "metadata": {},
   "outputs": [],
   "source": [
    "cockle_size = 10 #mm\n",
    "capture_rates = []\n",
    "density_list = []\n",
    "for density in range(0,10000):\n",
    "    density_list.append(density)\n",
    "    capture_rates.append(combined_capture_rate_cockle(density, cockle_size)[0])\n",
    "\n",
    "plt.plot(np.array(capture_rates) * 60)\n",
    "# plt.xscale('log')\n",
    "# plt.ylim(0,10)\n",
    "# plt.yscale('log')"
   ]
  },
  {
   "cell_type": "code",
   "execution_count": null,
   "metadata": {},
   "outputs": [],
   "source": [
    "for i in range(10)"
   ]
  },
  {
   "cell_type": "markdown",
   "metadata": {},
   "source": [
    "# Macoma Functional Response Curve"
   ]
  },
  {
   "cell_type": "markdown",
   "metadata": {},
   "source": [
    "### Hiddink Article"
   ]
  },
  {
   "cell_type": "code",
   "execution_count": null,
   "metadata": {},
   "outputs": [],
   "source": [
    "def functional_response(a,b,density):\n",
    "    return (a * density) / (1 + b * density)\n",
    "\n",
    "a = 650\n",
    "b = 0.016\n",
    "\n",
    "second_to_month = 60 * 60 * 24 * 30\n",
    "\n",
    "capture_rate = [functional_response(a, b, i) for i in range(1000)]\n",
    "\n",
    "plt.plot(range(1000), capture_rate)"
   ]
  },
  {
   "cell_type": "code",
   "execution_count": null,
   "metadata": {},
   "outputs": [],
   "source": [
    "capture_rate[1000 - 1] / second_to_month"
   ]
  },
  {
   "cell_type": "markdown",
   "metadata": {},
   "source": [
    "### Webtics capture rate"
   ]
  },
  {
   "cell_type": "code",
   "execution_count": null,
   "metadata": {},
   "outputs": [],
   "source": [
    "hiddinkA = 0.000625\n",
    "hiddinkB = 0.000213\n",
    "ratioafdwtowet = 0.16\n",
    "wetweight = 1.05\n",
    "\n",
    "handling_time = (hiddinkB / hiddinkA) * (1000 * wetweight * ratioafdwtowet)\n",
    "attack_rate = hiddinkA\n",
    "\n",
    "def capture_rate(attack_rate, handling_time, density):\n",
    "    return (attack_rate * density) / (1 + attack_rate * handling_time * density)\n",
    "\n",
    "capture_rate = [capture_rate(attack_rate, handling_time, i) * second_to_month for i in range(1000)]\n",
    "\n",
    "plt.plot(range(1000), capture_rate)\n",
    "plt.ylabel('number of prey per month')\n",
    "plt.xlabel('density in n/m2')\n",
    "plt.title('Response curve if wet weight = 1.05g')"
   ]
  },
  {
   "cell_type": "code",
   "execution_count": null,
   "metadata": {},
   "outputs": [],
   "source": [
    "capture_rate = np.array(capture_rate) * 0.16 * 1000 /second_to_month\n",
    "densities = np.array([i for i in range(1000)]) * 0.16 * 1000 \n",
    "\n",
    "plt.plot(densities[0:500], capture_rate[0:500])"
   ]
  },
  {
   "cell_type": "code",
   "execution_count": null,
   "metadata": {},
   "outputs": [],
   "source": [
    "plateau = (hiddinkA / hiddinkB) "
   ]
  },
  {
   "cell_type": "code",
   "execution_count": null,
   "metadata": {},
   "outputs": [],
   "source": [
    "second_to_month * 0.009"
   ]
  },
  {
   "cell_type": "code",
   "execution_count": null,
   "metadata": {},
   "outputs": [],
   "source": []
  }
 ],
 "metadata": {
  "kernelspec": {
   "display_name": "Python 3",
   "language": "python",
   "name": "python3"
  },
  "language_info": {
   "codemirror_mode": {
    "name": "ipython",
    "version": 3
   },
   "file_extension": ".py",
   "mimetype": "text/x-python",
   "name": "python",
   "nbconvert_exporter": "python",
   "pygments_lexer": "ipython3",
   "version": "3.7.2"
  }
 },
 "nbformat": 4,
 "nbformat_minor": 2
}
