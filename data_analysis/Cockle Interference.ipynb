{
 "cells": [
  {
   "cell_type": "markdown",
   "metadata": {},
   "source": [
    "# Interference of oystercatcher-cockle pair\n",
    "\n",
    "As described in webtics, and stillman (2002). In webtics, the approach of Stillman is simplified to a formula with less parameters. "
   ]
  },
  {
   "cell_type": "code",
   "execution_count": null,
   "metadata": {},
   "outputs": [],
   "source": [
    "import numpy as np\n",
    "import matplotlib.pyplot as plt"
   ]
  },
  {
   "cell_type": "code",
   "execution_count": null,
   "metadata": {},
   "outputs": [],
   "source": [
    "# function describing uptake reduction, bird density should be given in brids per m2\n",
    "def uptake_reduction_cockles(bird_density, attack_distance, alpha):\n",
    "    exponent = -np.pi * bird_density * (attack_distance ** 2) * alpha\n",
    "    return np.exp(exponent)"
   ]
  },
  {
   "cell_type": "code",
   "execution_count": null,
   "metadata": {},
   "outputs": [],
   "source": [
    "# parameters given in webtics\n",
    "attack_distance = 2\n",
    "alpha = 0.4\n",
    "\n",
    "# calculate for different bird_densities \n",
    "bird_densities = np.array([i for i in np.arange(0,0.2,0.0001)])\n",
    "uptake_reduction = [uptake_reduction_cockles(d, attack_distance, alpha) for d in bird_densities]\n",
    "\n",
    "# plot!\n",
    "plt.plot(bird_densities * 10000, uptake_reduction)\n",
    "plt.xscale('log')"
   ]
  },
  {
   "cell_type": "code",
   "execution_count": null,
   "metadata": {},
   "outputs": [],
   "source": [
    "bird_densities"
   ]
  },
  {
   "cell_type": "code",
   "execution_count": null,
   "metadata": {},
   "outputs": [],
   "source": []
  }
 ],
 "metadata": {
  "kernelspec": {
   "display_name": "Python 3",
   "language": "python",
   "name": "python3"
  },
  "language_info": {
   "codemirror_mode": {
    "name": "ipython",
    "version": 3
   },
   "file_extension": ".py",
   "mimetype": "text/x-python",
   "name": "python",
   "nbconvert_exporter": "python",
   "pygments_lexer": "ipython3",
   "version": "3.7.2"
  }
 },
 "nbformat": 4,
 "nbformat_minor": 2
}
