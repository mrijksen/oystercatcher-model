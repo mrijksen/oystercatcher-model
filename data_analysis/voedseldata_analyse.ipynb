{
 "cells": [
  {
   "cell_type": "markdown",
   "metadata": {},
   "source": [
    "# Analyse van data schelpdiergegevens WMR"
   ]
  },
  {
   "cell_type": "code",
   "execution_count": null,
   "metadata": {},
   "outputs": [],
   "source": [
    "import pandas as pd\n",
    "import numpy as np\n",
    "import geopandas as gpd\n",
    "import matplotlib.pyplot as plt\n",
    "import descartes\n",
    "from shapely.geometry import Point, Polygon\n",
    "\n",
    "%matplotlib inline"
   ]
  },
  {
   "cell_type": "markdown",
   "metadata": {},
   "source": [
    "### The data set\n",
    "\n",
    "- With Latitude, Longitude we find the location (on maps)\n",
    "- There is also data outside our area, which should be filtered out\n",
    "- Should be converted to dry weight\n",
    "- Sometimes same prey is measured several times at same location?\n",
    "\n",
    "### Some info about the data\n",
    "\n",
    "Different Phylum:\n",
    "- Mollusca (weekdieren, ongewervelden, bv schelpen) x\n",
    "- Echinodermata (stekelhuidigen, bv zeester)\n",
    "- Arthropoda (geleedpotigen, oa kreeftjes)\n",
    "- Cnidaria (neteldieren, bv kwallen)\n",
    "- Chordata (gewervelden, slijmprikken, manteldieren)\n",
    "- Annelida (Ringwormen, ook ragworms) x"
   ]
  },
  {
   "cell_type": "code",
   "execution_count": null,
   "metadata": {},
   "outputs": [],
   "source": [
    "# provide path and load data\n",
    "path = 'C:\\\\Users\\\\Marleen\\\\Documents\\\\thesis project\\\\Data zaken\\\\Data\\\\Voedsel data\\\\Schelpdiergegevens WMR.csv'\n",
    "df = pd.read_csv(path)\n",
    "# df.head()\n",
    "\n",
    "# get specific area of dataset\n",
    "min_lat = 53.017559\n",
    "max_lat = 53.33\n",
    "min_long = 4.736624\n",
    "max_long = 5.208100\n",
    "df = df.loc[(df.Latitude > min_lat) & (df.Latitude < max_lat)]\n",
    "df = df.loc[(df.Longitude > min_long) & (df.Longitude < max_long)]\n",
    "\n",
    "# get one year only\n",
    "year = 2007\n",
    "df = df.loc[(df['Year']) == year]"
   ]
  },
  {
   "cell_type": "markdown",
   "metadata": {},
   "source": [
    "### Load shapefile \n",
    "\n",
    "- Shapefile gevonden op https://www.imergis.nl/htm/opendata.htm"
   ]
  },
  {
   "cell_type": "code",
   "execution_count": null,
   "metadata": {},
   "outputs": [],
   "source": [
    "# load map \n",
    "nl_map = gpd.read_file(\"C:\\\\Users\\\\Marleen\\\\Documents\\\\thesis project\\\\Data zaken\\\\2019_provinciegrenzen_kustlijn.gpkg\")\n",
    "\n",
    "# change projection\n",
    "nl_map['geometry'] = nl_map['geometry'].to_crs(epsg=4326)\n",
    "\n",
    "# # plot\n",
    "# fig, ax = plt.subplots(figsize=(15,15))\n",
    "# nl_map.plot(ax=ax)"
   ]
  },
  {
   "cell_type": "markdown",
   "metadata": {},
   "source": [
    "### Create GeoDatabase of data set"
   ]
  },
  {
   "cell_type": "code",
   "execution_count": null,
   "metadata": {},
   "outputs": [],
   "source": [
    "# column with long, lat from data\n",
    "geometry = [Point(xy) for xy in zip(df[\"Longitude\"], df[\"Latitude\"])]\n",
    "\n",
    "# coordinate reference system\n",
    "crs = {'init': 'EPSG:4326'}\n",
    "\n",
    "# create geodf\n",
    "geo_df = gpd.GeoDataFrame(df, crs=crs, geometry=geometry)\n",
    "# geo_df.head()\n"
   ]
  },
  {
   "cell_type": "markdown",
   "metadata": {},
   "source": [
    "## Plot of Phylum = Annelida"
   ]
  },
  {
   "cell_type": "code",
   "execution_count": null,
   "metadata": {},
   "outputs": [],
   "source": [
    "df.loc[df['Phylum'] == \"Annelida\"]"
   ]
  },
  {
   "cell_type": "code",
   "execution_count": null,
   "metadata": {},
   "outputs": [],
   "source": [
    "# min and max for colorbar in plot\n",
    "vmin = df[df['Phylum'] == 'Annelida']['N_m2'].min()\n",
    "vmax = df[df['Phylum'] == 'Annelida']['N_m2'].max()"
   ]
  },
  {
   "cell_type": "code",
   "execution_count": null,
   "metadata": {},
   "outputs": [],
   "source": [
    "# create figure and axes\n",
    "fig,ax = plt.subplots(figsize = (15,15))\n",
    "nl_map.plot(ax=ax, alpha=0.4, color='grey', legend=True)\n",
    "\n",
    "# choose colormap and limits\n",
    "colormap='spring'\n",
    "\n",
    "# plot as usual\n",
    "geo_df[geo_df['Phylum']=='Annelida'].plot(ax=ax,column='N_m2', cmap=colormap,\n",
    "                                         vmin=vmin, vmax=vmax)\n",
    "\n",
    "# set title\n",
    "ax.set_title('Voedsel: Annelida {}'.format(year))\n",
    "\n",
    "# set axes limits\n",
    "ax.set_xlim(min_long, max_long)\n",
    "ax.set_ylim(min_lat, max_lat)\n",
    "\n",
    "# add colorbar axes to the figure\n",
    "# here, need trial-and-error to get [l,b,w,h] right\n",
    "# l:left, b:bottom, w:width, h:height; in normalized unit (0-1)\n",
    "cbax = fig.add_axes([0.95, 0.25, 0.03, 0.5]) \n",
    "cbax.set_title('N_m2')\n",
    "\n",
    "# create scalarmappable\n",
    "sm = plt.cm.ScalarMappable(cmap=colormap,\n",
    "                          norm=plt.Normalize(vmin=vmin,vmax=vmax))\n",
    "\n",
    "# at this stage, \n",
    "# 'cbax' is just a blank axes, with un needed labels on x and y axes\n",
    "\n",
    "# blank-out the array of the scalar mappable 'sm'\n",
    "sm._A = []\n",
    "\n",
    "# draw colorbar into 'cbax'\n",
    "fig.colorbar(sm, cax=cbax)\n",
    "\n",
    "# show plot (dont use tight layout)\n",
    "plt.savefig(\"voedselannelida_{}\".format(year))"
   ]
  },
  {
   "cell_type": "markdown",
   "metadata": {},
   "source": [
    "## Plot of Phylum = Mollusca"
   ]
  },
  {
   "cell_type": "code",
   "execution_count": null,
   "metadata": {},
   "outputs": [],
   "source": [
    "# min and max for colorbar in plot\n",
    "vmin = df[df['Phylum'] == 'Mollusca']['N_m2'].min()\n",
    "vmax = df[df['Phylum'] == 'Mollusca']['N_m2'].max()"
   ]
  },
  {
   "cell_type": "code",
   "execution_count": null,
   "metadata": {},
   "outputs": [],
   "source": [
    "# create figure and axes\n",
    "fig,ax = plt.subplots(figsize = (15,15))\n",
    "nl_map.plot(ax=ax, alpha=0.4, color='grey', legend=True)\n",
    "\n",
    "# choose colormap and limits\n",
    "colormap='spring'\n",
    "\n",
    "# plot as usual\n",
    "geo_df[geo_df['Phylum']=='Mollusca'].plot(ax=ax,column='N_m2', cmap=colormap,\n",
    "                                         vmin=vmin, vmax=vmax)\n",
    "\n",
    "# set title\n",
    "ax.set_title('voedsel: mollusca {}'.format(year))\n",
    "\n",
    "# set axes limits\n",
    "ax.set_xlim(min_long, max_long)\n",
    "ax.set_ylim(min_lat, max_lat)\n",
    "\n",
    "# add colorbar axes to the figure\n",
    "# here, need trial-and-error to get [l,b,w,h] right\n",
    "# l:left, b:bottom, w:width, h:height; in normalized unit (0-1)\n",
    "cbax = fig.add_axes([0.95, 0.25, 0.03, 0.5]) \n",
    "cbax.set_title('N_m2')\n",
    "\n",
    "# create scalarmappable\n",
    "sm = plt.cm.ScalarMappable(cmap=colormap,\n",
    "                          norm=plt.Normalize(vmin=vmin,vmax=vmax))\n",
    "\n",
    "# at this stage, \n",
    "# 'cbax' is just a blank axes, with un needed labels on x and y axes\n",
    "\n",
    "# blank-out the array of the scalar mappable 'sm'\n",
    "sm._A = []\n",
    "\n",
    "# draw colorbar into 'cbax'\n",
    "fig.colorbar(sm, cax=cbax)\n",
    "\n",
    "# show plot (dont use tight layout)\n",
    "plt.savefig(\"voedselmollusca_{}\".format(year))"
   ]
  },
  {
   "cell_type": "code",
   "execution_count": null,
   "metadata": {},
   "outputs": [],
   "source": []
  },
  {
   "cell_type": "code",
   "execution_count": null,
   "metadata": {},
   "outputs": [],
   "source": []
  },
  {
   "cell_type": "code",
   "execution_count": null,
   "metadata": {},
   "outputs": [],
   "source": []
  }
 ],
 "metadata": {
  "kernelspec": {
   "display_name": "Python 3",
   "language": "python",
   "name": "python3"
  },
  "language_info": {
   "codemirror_mode": {
    "name": "ipython",
    "version": 3
   },
   "file_extension": ".py",
   "mimetype": "text/x-python",
   "name": "python",
   "nbconvert_exporter": "python",
   "pygments_lexer": "ipython3",
   "version": "3.7.2"
  }
 },
 "nbformat": 4,
 "nbformat_minor": 2
}
