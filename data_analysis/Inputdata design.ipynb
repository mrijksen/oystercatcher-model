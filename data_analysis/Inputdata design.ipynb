{
 "cells": [
  {
   "cell_type": "code",
   "execution_count": null,
   "metadata": {},
   "outputs": [],
   "source": [
    "def create_patch_list(patch_types, patch_type_counts):\n",
    "    \"\"\" Returns list with patch type for every patch id.\n",
    "    \n",
    "    :patch_types is list with strings describing patch types\n",
    "    :patch_type_counts is list with number of patches for each patch type.\n",
    "    \"\"\"\n",
    "    \n",
    "    patch_name_list = []\n",
    "    for i in range(len(patch_type_counts)):\n",
    "        for j in range(patch_type_counts[i]):\n",
    "            patch_name_list.append(patch_types[i])\n",
    "    return patch_name_list"
   ]
  },
  {
   "cell_type": "code",
   "execution_count": null,
   "metadata": {},
   "outputs": [],
   "source": [
    "def create_random_prey(patch_name_list):\n",
    "    \"\"\" Returns prey for all patches.\n",
    "    \n",
    "    Input is list with patch types. Depending on the patch type\n",
    "    different prey is assigned to the patch. \"\"\"\n",
    "    \n",
    "    density_mussel = 30\n",
    "    density_kokkels_1 = 10\n",
    "    density_kokkels_2 = 20\n",
    "    density_kokkels_mj = 25\n",
    "    \n",
    "    prey = []\n",
    "    \n",
    "    for patch in patch_name_list:\n",
    "        if patch == \"Bed\":\n",
    "            prey.append({\"mussel_density\": density_mussel})\n",
    "        if patch == \"Mudflat\":\n",
    "            prey.append({\"kok1\": density_kokkels_1, \"kok2\": density_kokkels_2, \n",
    "                        \"kokmj\": density_kokkels_mj})\n",
    "    return prey"
   ]
  },
  {
   "cell_type": "code",
   "execution_count": null,
   "metadata": {},
   "outputs": [],
   "source": [
    "patch_types = [\"Bed\", \"Mudflat\"]\n",
    "patch_type_counts = [10, 20]\n",
    "\n",
    "patch_list = create_patch_list(patch_types, patch_type_counts)\n",
    "prey = create_random_prey(patch_list)"
   ]
  },
  {
   "cell_type": "code",
   "execution_count": null,
   "metadata": {},
   "outputs": [],
   "source": [
    "prey[0]['mussel_density'] += 1"
   ]
  },
  {
   "cell_type": "code",
   "execution_count": null,
   "metadata": {},
   "outputs": [],
   "source": [
    "prey"
   ]
  },
  {
   "cell_type": "code",
   "execution_count": null,
   "metadata": {},
   "outputs": [],
   "source": []
  }
 ],
 "metadata": {
  "kernelspec": {
   "display_name": "Python 3",
   "language": "python",
   "name": "python3"
  },
  "language_info": {
   "codemirror_mode": {
    "name": "ipython",
    "version": 3
   },
   "file_extension": ".py",
   "mimetype": "text/x-python",
   "name": "python",
   "nbconvert_exporter": "python",
   "pygments_lexer": "ipython3",
   "version": "3.7.2"
  }
 },
 "nbformat": 4,
 "nbformat_minor": 2
}
