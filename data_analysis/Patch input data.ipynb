{
 "cells": [
  {
   "cell_type": "code",
   "execution_count": null,
   "metadata": {},
   "outputs": [],
   "source": [
    "import pandas as pd\n"
   ]
  },
  {
   "cell_type": "markdown",
   "metadata": {},
   "source": [
    "# Load patches 2017 data\n",
    "\n",
    "We only need the patchID, type, area, musselcover and the densities of the prey available on every patch. Note that for mussel patches we assume there is infinite (mussel) prey available and that this density is thus not specified. "
   ]
  },
  {
   "cell_type": "code",
   "execution_count": null,
   "metadata": {},
   "outputs": [],
   "source": [
    "# load the patch data\n",
    "path = \"C:/Users/Marleen/Documents/thesis project/Data zaken/Patch_Info_Vlieland_2017.csv\"\n",
    "df_patches = pd.read_csv(path, delimiter=\",\")\n",
    "df_patches = df_patches[['patchID', 'type', 'area', 'musselcover', 'Cockle_1j_dens','Cockle_2j_dens', 'Cockle_mj_dens']]\n",
    "df_patches.head()\n",
    "df_patches.sort_values('patchID')"
   ]
  },
  {
   "cell_type": "markdown",
   "metadata": {},
   "source": [
    "# Load Patch Availability - Waterheight data"
   ]
  },
  {
   "cell_type": "code",
   "execution_count": null,
   "metadata": {},
   "outputs": [],
   "source": [
    "# load the patch data\n",
    "path = \"C:/Users/Marleen/Documents/thesis project/Data zaken/Patch_Exposure_Vlieland_2017.csv\"\n",
    "df_patch_availability = pd.read_csv(path, delimiter=\",\")\n",
    "del df_patch_availability['Unnamed: 0']\n",
    "df_patch_availability.head()"
   ]
  }
 ],
 "metadata": {
  "kernelspec": {
   "display_name": "Python 3",
   "language": "python",
   "name": "python3"
  },
  "language_info": {
   "codemirror_mode": {
    "name": "ipython",
    "version": 3
   },
   "file_extension": ".py",
   "mimetype": "text/x-python",
   "name": "python",
   "nbconvert_exporter": "python",
   "pygments_lexer": "ipython3",
   "version": "3.7.2"
  }
 },
 "nbformat": 4,
 "nbformat_minor": 2
}
