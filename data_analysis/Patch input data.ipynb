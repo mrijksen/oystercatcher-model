{
 "cells": [
  {
   "cell_type": "code",
   "execution_count": null,
   "metadata": {},
   "outputs": [],
   "source": [
    "import pandas as pd\n",
    "import numpy as np"
   ]
  },
  {
   "cell_type": "markdown",
   "metadata": {},
   "source": [
    "# Load patches 2017 data\n",
    "\n",
    "We only need the patchID, type, area, musselcover and the densities of the prey available on every patch. Note that for mussel patches we assume there is infinite (mussel) prey available and that this density is thus not specified. "
   ]
  },
  {
   "cell_type": "code",
   "execution_count": null,
   "metadata": {},
   "outputs": [],
   "source": [
    "# load the patch data\n",
    "path = \"C:/Users/Marleen/Documents/thesis project/Data zaken/Data/Patch data/Patch_Info_Vlieland_2017.csv\"\n",
    "df_patches = pd.read_csv(path, delimiter=\",\")\n",
    "\n",
    "columns = ['patchID', 'type', 'area', 'musselcover', \n",
    "           'Cockle_1j_FW', 'Cockle_1j_WW', 'Cockle_1j_dens',\n",
    "           'Cockle_2j_FW', 'Cockle_2j_WW', 'Cockle_2j_dens', \n",
    "           'Cockle_mj_FW', 'Cockle_mj_WW', 'Cockle_mj_dens', \n",
    "           'Macoma_WW', 'Macoma_dens', 'Macoma_dens']\n",
    "df_patches = df_patches[columns]\n",
    "\n",
    "# remove patches with only zero densities\n",
    "columns = columns[3:]\n",
    "df_patches = df_patches.fillna(0)\n",
    "df_patches = df_patches[(df_patches[columns].T != 0).any()]\n",
    "\n",
    "df_patches = df_patches.sort_values('patchID')\n",
    "df_patches.reset_index(inplace=True, drop=True)\n",
    "\n",
    "list(df_patches['type'])"
   ]
  },
  {
   "cell_type": "code",
   "execution_count": null,
   "metadata": {},
   "outputs": [],
   "source": [
    "df_density_prey = df_patches[['musselcover',\n",
    "                              'Cockle_1j_FW', 'Cockle_1j_WW', 'Cockle_1j_dens',\n",
    "                         'Cockle_2j_FW', 'Cockle_2j_WW', 'Cockle_2j_dens', \n",
    "                         'Cockle_mj_FW', 'Cockle_mj_WW', 'Cockle_mj_dens', \n",
    "                         'Macoma_WW', 'Macoma_dens', 'Macoma_dens']]\n",
    "df_density_prey = df_density_prey.fillna(0)\n",
    "df_density_prey.head()"
   ]
  },
  {
   "cell_type": "code",
   "execution_count": null,
   "metadata": {},
   "outputs": [],
   "source": [
    "df_nonzero = df_density_prey[(df_density_prey.T != 0).any()]\n",
    "df_nonzero.shape"
   ]
  },
  {
   "cell_type": "code",
   "execution_count": null,
   "metadata": {},
   "outputs": [],
   "source": [
    "mask = np.all(np.isnan(arr) | arr == 0, axis=1)"
   ]
  },
  {
   "cell_type": "markdown",
   "metadata": {},
   "source": [
    "# Load Patch Availability - Waterheight data"
   ]
  },
  {
   "cell_type": "code",
   "execution_count": null,
   "metadata": {},
   "outputs": [],
   "source": [
    "# load the patch data\n",
    "path = \"C:/Users/Marleen/Documents/thesis project/Data zaken/Patch_Exposure_Vlieland_2017.csv\"\n",
    "df_patch_availability = pd.read_csv(path, delimiter=\",\")\n",
    "del df_patch_availability['Unnamed: 0']\n",
    "df_patch_availability.head()"
   ]
  },
  {
   "cell_type": "markdown",
   "metadata": {},
   "source": [
    "# Create artificial patch and patch availability data"
   ]
  },
  {
   "cell_type": "code",
   "execution_count": null,
   "metadata": {},
   "outputs": [],
   "source": [
    "artificial_patches = pd.DataFrame()\n",
    "artificial_patches['patch_id'] = [1,2]\n",
    "artificial_patches['type'] = ['Bed', \"Mudflat\"]\n",
    "artificial_patches['area'] = [10000, 10000]\n",
    "artificial_patches['musselcover'] = [100, np.nan] # todo: add weight! \n",
    "artificial_patches['Cockle_1j_dens'] = [np.nan, 15]\n",
    "artificial_patches['Cockle_2j_dens'] = [np.nan, 15]\n",
    "artificial_patches['Cockle_mj_dens'] = [np.nan, 50]\n",
    "artificial_patches['Macoma_dens'] = [np.nan, 50]"
   ]
  },
  {
   "cell_type": "code",
   "execution_count": null,
   "metadata": {},
   "outputs": [],
   "source": [
    "# make patches available if waterheight < 0\n",
    "artificial_availability = pd.DataFrame()\n",
    "artificial_availability['waterheight'] = np.arange(-300, 300, 1)\n",
    "artificial_availability['1'] = np.nan\n",
    "artificial_availability['1'] = np.where(artificial_availability.waterheight < 0, 1, 0)\n",
    "artificial_availability['2'] = np.where(artificial_availability.waterheight < 100, 1, 0)"
   ]
  },
  {
   "cell_type": "code",
   "execution_count": null,
   "metadata": {},
   "outputs": [],
   "source": [
    "artificial_availability.iloc[370:420]"
   ]
  },
  {
   "cell_type": "code",
   "execution_count": null,
   "metadata": {},
   "outputs": [],
   "source": []
  }
 ],
 "metadata": {
  "kernelspec": {
   "display_name": "Python 3",
   "language": "python",
   "name": "python3"
  },
  "language_info": {
   "codemirror_mode": {
    "name": "ipython",
    "version": 3
   },
   "file_extension": ".py",
   "mimetype": "text/x-python",
   "name": "python",
   "nbconvert_exporter": "python",
   "pygments_lexer": "ipython3",
   "version": "3.7.2"
  }
 },
 "nbformat": 4,
 "nbformat_minor": 2
}
