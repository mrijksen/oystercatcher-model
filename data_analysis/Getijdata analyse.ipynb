{
 "cells": [
  {
   "cell_type": "markdown",
   "metadata": {},
   "source": [
    "## Analyse van Waterhoogte Vlieland gemeten per 10 minuten van 1/11/2016 tot 30 april 2018"
   ]
  },
  {
   "cell_type": "code",
   "execution_count": null,
   "metadata": {},
   "outputs": [],
   "source": [
    "import pandas as pd\n",
    "import matplotlib.pyplot as plt\n",
    "import datetime\n",
    "import numpy as np\n",
    "from scipy.signal import argrelextrema\n",
    "from scipy import signal"
   ]
  },
  {
   "cell_type": "code",
   "execution_count": null,
   "metadata": {},
   "outputs": [],
   "source": [
    "# load the data\n",
    "path = \"C:/Users/Marleen/Documents/thesis project/Data zaken/Data/Getij data/Waterhoogte Vlieland gemeten per 10 minuten.csv\"\n",
    "df = pd.read_csv(path, delimiter=\";\")\n",
    "df.head()"
   ]
  },
  {
   "cell_type": "code",
   "execution_count": null,
   "metadata": {},
   "outputs": [],
   "source": [
    "# set date time to pandas timestamp (don't know if this is necessary)\n",
    "df['date_time'] = pd.to_datetime(df['date_time'])\n",
    "df.head()"
   ]
  },
  {
   "cell_type": "markdown",
   "metadata": {},
   "source": [
    "### Select some data from one day and get high/low tide moments"
   ]
  },
  {
   "cell_type": "code",
   "execution_count": null,
   "metadata": {},
   "outputs": [],
   "source": [
    "# select one day of data\n",
    "first_date_data = df.loc[df['date_time'].dt.date == datetime.date(2016,11,6)]\n",
    "plt.plot(first_date_data['date_time'].dt.time, first_date_data['waterheight'])\n",
    "plt.show()"
   ]
  },
  {
   "cell_type": "code",
   "execution_count": null,
   "metadata": {},
   "outputs": [],
   "source": [
    "array = np.array(first_date_data['waterheight'])\n",
    "index = argrelextrema(array, np.greater)\n",
    "# first_date_data['waterheight'][132]\n",
    "\n",
    "def find_high_tide_points(array_waterheights):\n",
    "    indices = []\n",
    "    for i in range(len(array_waterheights) - 1):\n",
    "        if array_waterheights[i] > 0:\n",
    "            if (array_waterheights[i] > array_waterheights[i + 1]) and (array_waterheights[i] > array_waterheights[i-1]):\n",
    "                indices.append(i)\n",
    "            elif (array_waterheights[i] >= array_waterheights[i + 1]) and (array_waterheights[i] > array_waterheights[i-1]):\n",
    "                indices.append(i)\n",
    "    return indices"
   ]
  },
  {
   "cell_type": "code",
   "execution_count": null,
   "metadata": {},
   "outputs": [],
   "source": [
    "waterheight_array = np.array(first_date_data['waterheight'])\n",
    "indices = find_high_tide_points(waterheight_array)\n",
    "print(indices)\n",
    "np.array(waterheight_array[indices])"
   ]
  },
  {
   "cell_type": "code",
   "execution_count": null,
   "metadata": {},
   "outputs": [],
   "source": [
    "plt.figure()\n",
    "plt.plot(first_date_data['date_time'].dt.time, first_date_data['waterheight'])\n",
    "plt.scatter(np.array(first_date_data['date_time'].dt.time)[indices], np.array(waterheight_array[indices]))\n",
    "plt.show()"
   ]
  },
  {
   "cell_type": "code",
   "execution_count": null,
   "metadata": {},
   "outputs": [],
   "source": [
    "df_sample = df.loc[(df['date_time'].dt.date >= datetime.date(2017,9,1)) & (df['date_time'].dt.date < datetime.date(2017,10,1))]\n",
    "n = 3\n",
    "indices = argrelextrema(df_sample.waterheight.values, np.greater_equal, order=n)[0]\n",
    "df_sample['max'] = df_sample.iloc[indices]['waterheight']\n",
    "print(type(indices))"
   ]
  },
  {
   "cell_type": "code",
   "execution_count": null,
   "metadata": {},
   "outputs": [],
   "source": [
    "high_tide_points = df_sample.dropna()\n",
    "\n",
    "# plto\n",
    "plt.plot(df_sample['date_time'], df_sample['waterheight'])\n",
    "plt.plot(high_tide_points['date_time'], high_tide_points['max'], 'bo')\n",
    "\n",
    "# high_tide_points\n"
   ]
  },
  {
   "cell_type": "markdown",
   "metadata": {},
   "source": [
    "### Select data from 1 september 2017 - 1 march 2018"
   ]
  },
  {
   "cell_type": "code",
   "execution_count": null,
   "metadata": {},
   "outputs": [],
   "source": [
    "# select 1 september 2017 - 1 march 2018\n",
    "# plt.figure()\n",
    "sep_2017 = df.loc[(df['date_time'].dt.date >= datetime.date(2017,9,1)) & (df['date_time'].dt.date < datetime.date(2018,3,1))]\n",
    "plt.plot(sep_2017['date_time'], sep_2017['waterheight'])"
   ]
  },
  {
   "cell_type": "code",
   "execution_count": null,
   "metadata": {},
   "outputs": [],
   "source": [
    "# get high tide timestamps \n"
   ]
  },
  {
   "cell_type": "code",
   "execution_count": null,
   "metadata": {},
   "outputs": [],
   "source": []
  },
  {
   "cell_type": "code",
   "execution_count": null,
   "metadata": {},
   "outputs": [],
   "source": []
  },
  {
   "cell_type": "code",
   "execution_count": null,
   "metadata": {},
   "outputs": [],
   "source": []
  }
 ],
 "metadata": {
  "kernelspec": {
   "display_name": "Python 3",
   "language": "python",
   "name": "python3"
  },
  "language_info": {
   "codemirror_mode": {
    "name": "ipython",
    "version": 3
   },
   "file_extension": ".py",
   "mimetype": "text/x-python",
   "name": "python",
   "nbconvert_exporter": "python",
   "pygments_lexer": "ipython3",
   "version": "3.7.2"
  }
 },
 "nbformat": 4,
 "nbformat_minor": 2
}
