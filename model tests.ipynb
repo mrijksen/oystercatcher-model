{
 "cells": [
  {
   "cell_type": "code",
   "execution_count": null,
   "metadata": {},
   "outputs": [],
   "source": [
    "%load_ext autoreload\n",
    "%autoreload 2\n",
    "\n",
    "from model import OystercatcherModel\n",
    "\n",
    "import random\n",
    "import numpy as np\n",
    "\n",
    "import time\n",
    "\n",
    "import numba"
   ]
  },
  {
   "cell_type": "markdown",
   "metadata": {},
   "source": [
    "# Input data and parameters"
   ]
  },
  {
   "cell_type": "code",
   "execution_count": null,
   "metadata": {},
   "outputs": [],
   "source": [
    "def get_availability(patches, num_tidal_cycles, minutes_in_tidal_cycle):\n",
    "    \"\"\" Returns random true false array with dimensions patches x timesteps\n",
    "    \"\"\"\n",
    "    timesteps = int(num_tidal_cycles * minutes_in_tidal_cycle\n",
    "                               /resolution_min)\n",
    "    return np.random.choice([True, False], (timesteps, patches))\n",
    "\n",
    "def get_prey(patches, min_prey, max_prey):\n",
    "    \"\"\"Returns random array with prey between min_prey and max_prey for\n",
    "    number of patches\n",
    "    \"\"\"\n",
    "    return [random.randint(min_prey, max_prey) for x in range(patches)]"
   ]
  },
  {
   "cell_type": "code",
   "execution_count": null,
   "metadata": {},
   "outputs": [],
   "source": [
    "# create some data\n",
    "num_patches = 100\n",
    "min_prey = 2\n",
    "max_prey = 5\n",
    "temperature = None\n",
    "init_birds = 7000\n",
    "num_tidal_cycles = 1\n",
    "mussel = True\n",
    "resolution_min = 10\n",
    "minutes_in_tidal_cycle = 720\n",
    "\n",
    "# initial prey for all patches\n",
    "init_prey = get_prey(num_patches, min_prey, max_prey)\n",
    "\n",
    "# availability for all patches for all timesteps\n",
    "availability = get_availability(num_patches, num_tidal_cycles, minutes_in_tidal_cycle)\n",
    "\n",
    "# # tidal cycle data\n",
    "# # list with integers indicating tidal cycle number\n",
    "# tidal_length = 3\n",
    "# num_tidals = timesteps / tidal_length\n",
    "# tidal_cycle = [i//tidal_length for i in range(timesteps)]\n",
    "\n",
    "np.shape(availability)"
   ]
  },
  {
   "cell_type": "code",
   "execution_count": null,
   "metadata": {},
   "outputs": [],
   "source": [
    "init_prey * availability"
   ]
  },
  {
   "cell_type": "markdown",
   "metadata": {},
   "source": [
    "### Run the model"
   ]
  },
  {
   "cell_type": "code",
   "execution_count": null,
   "metadata": {},
   "outputs": [],
   "source": [
    "# instantiate model\n",
    "model = OystercatcherModel(init_prey, availability, temperature, init_birds, num_tidal_cycles, mussel, \n",
    "                           resolution_min=10, minutes_in_tidal_cycle=720)"
   ]
  },
  {
   "cell_type": "code",
   "execution_count": null,
   "metadata": {},
   "outputs": [],
   "source": [
    "start = time.time()\n",
    "model.run_model()\n",
    "print(\"Total time\", time.time() - start)"
   ]
  },
  {
   "cell_type": "code",
   "execution_count": null,
   "metadata": {},
   "outputs": [],
   "source": [
    "random.sample(range(1), 100)"
   ]
  },
  {
   "cell_type": "code",
   "execution_count": null,
   "metadata": {},
   "outputs": [],
   "source": [
    "def calculate_L(total_num_agents, dominance):\n",
    "    \"\"\" Returns total number of encounters won (in percentages) based on number\n",
    "    of agents currently in system and an agent's dominance\"\"\"\n",
    "    try:\n",
    "        ((total_num_agents - dominance) * 100 / (total_num_agents - 1))\n",
    "        return None\n"
   ]
  },
  {
   "cell_type": "code",
   "execution_count": null,
   "metadata": {},
   "outputs": [],
   "source": [
    "a = np.array([[1,2,3],[4,5,6],[7,8,9]])\n",
    "a"
   ]
  },
  {
   "cell_type": "code",
   "execution_count": null,
   "metadata": {},
   "outputs": [],
   "source": [
    "b = np.array([[2,2,3], [2, 2, 1], [2, 2, 0]])\n",
    "b"
   ]
  },
  {
   "cell_type": "code",
   "execution_count": null,
   "metadata": {},
   "outputs": [],
   "source": [
    "np.multiply(a, b)"
   ]
  },
  {
   "cell_type": "code",
   "execution_count": null,
   "metadata": {},
   "outputs": [],
   "source": [
    "b[np.newaxis, :]"
   ]
  },
  {
   "cell_type": "code",
   "execution_count": null,
   "metadata": {},
   "outputs": [],
   "source": [
    "b = [b]"
   ]
  },
  {
   "cell_type": "code",
   "execution_count": null,
   "metadata": {},
   "outputs": [],
   "source": [
    "c = np.multiply(a,b)\n",
    "c"
   ]
  },
  {
   "cell_type": "code",
   "execution_count": null,
   "metadata": {},
   "outputs": [],
   "source": [
    "z = c.argmax(axis=1)"
   ]
  },
  {
   "cell_type": "code",
   "execution_count": null,
   "metadata": {},
   "outputs": [],
   "source": [
    "a = [5, 5]\n",
    "b = 6\n",
    "v = 7\n",
    "\n",
    "len([a,b,v])"
   ]
  },
  {
   "cell_type": "code",
   "execution_count": null,
   "metadata": {},
   "outputs": [],
   "source": [
    "a = np.array([[1,2,3],[4,5,6],[7,8,9]])\n",
    "a"
   ]
  },
  {
   "cell_type": "code",
   "execution_count": null,
   "metadata": {},
   "outputs": [],
   "source": [
    "b = [0, 1, 2]\n",
    "a[np.arange(a.shape[0]), b] += 1\n",
    "a"
   ]
  },
  {
   "cell_type": "markdown",
   "metadata": {},
   "source": [
    "## kijk of we functie veel sneller kunnen maken met jit"
   ]
  },
  {
   "cell_type": "code",
   "execution_count": null,
   "metadata": {},
   "outputs": [],
   "source": []
  }
 ],
 "metadata": {
  "kernelspec": {
   "display_name": "Python 3",
   "language": "python",
   "name": "python3"
  },
  "language_info": {
   "codemirror_mode": {
    "name": "ipython",
    "version": 3
   },
   "file_extension": ".py",
   "mimetype": "text/x-python",
   "name": "python",
   "nbconvert_exporter": "python",
   "pygments_lexer": "ipython3",
   "version": "3.7.2"
  }
 },
 "nbformat": 4,
 "nbformat_minor": 2
}
